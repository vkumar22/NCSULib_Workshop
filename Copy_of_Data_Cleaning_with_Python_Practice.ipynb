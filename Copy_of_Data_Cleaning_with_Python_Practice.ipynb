{
  "nbformat": 4,
  "nbformat_minor": 0,
  "metadata": {
    "colab": {
      "name": "Copy of Data_Cleaning_with_Python_Practice.ipynb",
      "version": "0.3.2",
      "provenance": [],
      "collapsed_sections": [],
      "include_colab_link": true
    },
    "kernelspec": {
      "name": "python3",
      "display_name": "Python 3"
    }
  },
  "cells": [
    {
      "cell_type": "markdown",
      "metadata": {
        "id": "view-in-github",
        "colab_type": "text"
      },
      "source": [
        "<a href=\"https://colab.research.google.com/github/vkumar22/NCSULib_Workshop/blob/master/Copy_of_Data_Cleaning_with_Python_Practice.ipynb\" target=\"_parent\"><img src=\"https://colab.research.google.com/assets/colab-badge.svg\" alt=\"Open In Colab\"/></a>"
      ]
    },
    {
      "metadata": {
        "id": "iEvI-KpARZkS",
        "colab_type": "text"
      },
      "cell_type": "markdown",
      "source": [
        "# **Data Cleaning with Python**  \n",
        "An NCSU Libraries Workshop  \n",
        "Instructor: Alison Blaine, ablaine@ncsu.edu\n",
        "\n"
      ]
    },
    {
      "metadata": {
        "id": "iNIMxnrkxk3q",
        "colab_type": "text"
      },
      "cell_type": "markdown",
      "source": [
        "### Welcome! In this workshop, we'll learn how to do the following:\n",
        "* load in python libraries for data cleaning (pandas) and graphing (matplotlib)\n",
        "* read csv files into Python from an internet source\n",
        "* examine the first and last few rows of the data\n",
        "* delete duplicates\n",
        "* filter the data to create subsets\n",
        "* sort the data\n",
        "* group the data for plotting\n",
        "* drop variables from the dataset\n",
        "* create new variables\n",
        "* generate and save summary statistics for a dataset"
      ]
    },
    {
      "metadata": {
        "id": "oAgjwPfORxoY",
        "colab_type": "text"
      },
      "cell_type": "markdown",
      "source": [
        "### Step 1. We'll start by loading in the required Python libraries."
      ]
    },
    {
      "metadata": {
        "id": "EhhU85l3RJ8k",
        "colab_type": "code",
        "colab": {}
      },
      "cell_type": "code",
      "source": [
        "import pandas as pd\n",
        "import matplotlib.pyplot as plt"
      ],
      "execution_count": 0,
      "outputs": []
    },
    {
      "metadata": {
        "id": "V95BKFBuSpzr",
        "colab_type": "text"
      },
      "cell_type": "markdown",
      "source": [
        "### Step 2. Next, we'll load in a dataset from the internet. This dataset is a CSV (comma separated values) file."
      ]
    },
    {
      "metadata": {
        "id": "pj7DcrfHSpWE",
        "colab_type": "code",
        "colab": {}
      },
      "cell_type": "code",
      "source": [
        "url=\"https://raw.githubusercontent.com/alblaine/data-USstates/master/state-population.csv\"\n",
        "\n",
        "dat=pd.read_csv(url)"
      ],
      "execution_count": 0,
      "outputs": []
    },
    {
      "metadata": {
        "id": "8GS3SOCWatdL",
        "colab_type": "text"
      },
      "cell_type": "markdown",
      "source": [
        "### Step 3. Type dat.head() to see the first 5 rows of the dataset. Then click the run button."
      ]
    },
    {
      "metadata": {
        "id": "FEEgaJYSatC5",
        "colab_type": "code",
        "colab": {
          "base_uri": "https://localhost:8080/",
          "height": 204
        },
        "outputId": "66c119ab-36ac-4b0a-8d6c-c34669c02908"
      },
      "cell_type": "code",
      "source": [
        "dat.head()"
      ],
      "execution_count": 4,
      "outputs": [
        {
          "output_type": "execute_result",
          "data": {
            "text/html": [
              "<div>\n",
              "<style scoped>\n",
              "    .dataframe tbody tr th:only-of-type {\n",
              "        vertical-align: middle;\n",
              "    }\n",
              "\n",
              "    .dataframe tbody tr th {\n",
              "        vertical-align: top;\n",
              "    }\n",
              "\n",
              "    .dataframe thead th {\n",
              "        text-align: right;\n",
              "    }\n",
              "</style>\n",
              "<table border=\"1\" class=\"dataframe\">\n",
              "  <thead>\n",
              "    <tr style=\"text-align: right;\">\n",
              "      <th></th>\n",
              "      <th>state/region</th>\n",
              "      <th>ages</th>\n",
              "      <th>year</th>\n",
              "      <th>population</th>\n",
              "    </tr>\n",
              "  </thead>\n",
              "  <tbody>\n",
              "    <tr>\n",
              "      <th>0</th>\n",
              "      <td>AL</td>\n",
              "      <td>under18</td>\n",
              "      <td>2012</td>\n",
              "      <td>1117489.0</td>\n",
              "    </tr>\n",
              "    <tr>\n",
              "      <th>1</th>\n",
              "      <td>AL</td>\n",
              "      <td>total</td>\n",
              "      <td>2012</td>\n",
              "      <td>4817528.0</td>\n",
              "    </tr>\n",
              "    <tr>\n",
              "      <th>2</th>\n",
              "      <td>AL</td>\n",
              "      <td>under18</td>\n",
              "      <td>2010</td>\n",
              "      <td>1130966.0</td>\n",
              "    </tr>\n",
              "    <tr>\n",
              "      <th>3</th>\n",
              "      <td>AL</td>\n",
              "      <td>total</td>\n",
              "      <td>2010</td>\n",
              "      <td>4785570.0</td>\n",
              "    </tr>\n",
              "    <tr>\n",
              "      <th>4</th>\n",
              "      <td>AL</td>\n",
              "      <td>under18</td>\n",
              "      <td>2011</td>\n",
              "      <td>1125763.0</td>\n",
              "    </tr>\n",
              "  </tbody>\n",
              "</table>\n",
              "</div>"
            ],
            "text/plain": [
              "  state/region     ages  year  population\n",
              "0           AL  under18  2012   1117489.0\n",
              "1           AL    total  2012   4817528.0\n",
              "2           AL  under18  2010   1130966.0\n",
              "3           AL    total  2010   4785570.0\n",
              "4           AL  under18  2011   1125763.0"
            ]
          },
          "metadata": {
            "tags": []
          },
          "execution_count": 4
        }
      ]
    },
    {
      "metadata": {
        "id": "5e847Ddpnzom",
        "colab_type": "text"
      },
      "cell_type": "markdown",
      "source": [
        "### Step 4. Rename the state/region column to state_region using rename()."
      ]
    },
    {
      "metadata": {
        "id": "ZyLmH3ayn7LS",
        "colab_type": "code",
        "colab": {}
      },
      "cell_type": "code",
      "source": [
        "dat.rename(columns={'state/region':'state_region'},inplace=True)\n",
        "dat"
      ],
      "execution_count": 0,
      "outputs": []
    },
    {
      "metadata": {
        "id": "vmDZaylQ0RcK",
        "colab_type": "text"
      },
      "cell_type": "markdown",
      "source": [
        "### Step 5. Print out the unique values in the state_region column using drop_duplicates()."
      ]
    },
    {
      "metadata": {
        "id": "WO02Y2G9z56_",
        "colab_type": "code",
        "colab": {}
      },
      "cell_type": "code",
      "source": [
        "dat.state_region.drop_duplicates()"
      ],
      "execution_count": 0,
      "outputs": []
    },
    {
      "metadata": {
        "id": "Vsd9kg3y0YU_",
        "colab_type": "text"
      },
      "cell_type": "markdown",
      "source": [
        "### Step 6. Filter out all rows except for NC using query()."
      ]
    },
    {
      "metadata": {
        "id": "5qQWifgv0YCU",
        "colab_type": "code",
        "colab": {
          "base_uri": "https://localhost:8080/",
          "height": 204
        },
        "outputId": "bd74b181-68f6-4169-a9dd-703cce06d8a5"
      },
      "cell_type": "code",
      "source": [
        "dat_filtered = dat.query('state_region==\"NC\"')\n",
        "dat_filtered.head()"
      ],
      "execution_count": 9,
      "outputs": [
        {
          "output_type": "execute_result",
          "data": {
            "text/html": [
              "<div>\n",
              "<style scoped>\n",
              "    .dataframe tbody tr th:only-of-type {\n",
              "        vertical-align: middle;\n",
              "    }\n",
              "\n",
              "    .dataframe tbody tr th {\n",
              "        vertical-align: top;\n",
              "    }\n",
              "\n",
              "    .dataframe thead th {\n",
              "        text-align: right;\n",
              "    }\n",
              "</style>\n",
              "<table border=\"1\" class=\"dataframe\">\n",
              "  <thead>\n",
              "    <tr style=\"text-align: right;\">\n",
              "      <th></th>\n",
              "      <th>state_region</th>\n",
              "      <th>ages</th>\n",
              "      <th>year</th>\n",
              "      <th>population</th>\n",
              "    </tr>\n",
              "  </thead>\n",
              "  <tbody>\n",
              "    <tr>\n",
              "      <th>1584</th>\n",
              "      <td>NC</td>\n",
              "      <td>under18</td>\n",
              "      <td>1990</td>\n",
              "      <td>1625804.0</td>\n",
              "    </tr>\n",
              "    <tr>\n",
              "      <th>1585</th>\n",
              "      <td>NC</td>\n",
              "      <td>total</td>\n",
              "      <td>1990</td>\n",
              "      <td>6664016.0</td>\n",
              "    </tr>\n",
              "    <tr>\n",
              "      <th>1586</th>\n",
              "      <td>NC</td>\n",
              "      <td>total</td>\n",
              "      <td>1991</td>\n",
              "      <td>6784280.0</td>\n",
              "    </tr>\n",
              "    <tr>\n",
              "      <th>1587</th>\n",
              "      <td>NC</td>\n",
              "      <td>under18</td>\n",
              "      <td>1991</td>\n",
              "      <td>1640394.0</td>\n",
              "    </tr>\n",
              "    <tr>\n",
              "      <th>1588</th>\n",
              "      <td>NC</td>\n",
              "      <td>total</td>\n",
              "      <td>1993</td>\n",
              "      <td>7042818.0</td>\n",
              "    </tr>\n",
              "  </tbody>\n",
              "</table>\n",
              "</div>"
            ],
            "text/plain": [
              "     state_region     ages  year  population\n",
              "1584           NC  under18  1990   1625804.0\n",
              "1585           NC    total  1990   6664016.0\n",
              "1586           NC    total  1991   6784280.0\n",
              "1587           NC  under18  1991   1640394.0\n",
              "1588           NC    total  1993   7042818.0"
            ]
          },
          "metadata": {
            "tags": []
          },
          "execution_count": 9
        }
      ]
    },
    {
      "metadata": {
        "id": "38EaStPQ9RSa",
        "colab_type": "text"
      },
      "cell_type": "markdown",
      "source": [
        "### Step 7. Order the columns by year using sort_values()."
      ]
    },
    {
      "metadata": {
        "id": "mG4vCaj39XI4",
        "colab_type": "code",
        "colab": {
          "base_uri": "https://localhost:8080/",
          "height": 204
        },
        "outputId": "bb12346c-4ac4-45fe-e5ef-7679446bfd1c"
      },
      "cell_type": "code",
      "source": [
        "dat_sorted =dat_filtered.sort_values(['year'])\n",
        "dat_sorted.head()\n"
      ],
      "execution_count": 10,
      "outputs": [
        {
          "output_type": "execute_result",
          "data": {
            "text/html": [
              "<div>\n",
              "<style scoped>\n",
              "    .dataframe tbody tr th:only-of-type {\n",
              "        vertical-align: middle;\n",
              "    }\n",
              "\n",
              "    .dataframe tbody tr th {\n",
              "        vertical-align: top;\n",
              "    }\n",
              "\n",
              "    .dataframe thead th {\n",
              "        text-align: right;\n",
              "    }\n",
              "</style>\n",
              "<table border=\"1\" class=\"dataframe\">\n",
              "  <thead>\n",
              "    <tr style=\"text-align: right;\">\n",
              "      <th></th>\n",
              "      <th>state_region</th>\n",
              "      <th>ages</th>\n",
              "      <th>year</th>\n",
              "      <th>population</th>\n",
              "    </tr>\n",
              "  </thead>\n",
              "  <tbody>\n",
              "    <tr>\n",
              "      <th>1584</th>\n",
              "      <td>NC</td>\n",
              "      <td>under18</td>\n",
              "      <td>1990</td>\n",
              "      <td>1625804.0</td>\n",
              "    </tr>\n",
              "    <tr>\n",
              "      <th>1585</th>\n",
              "      <td>NC</td>\n",
              "      <td>total</td>\n",
              "      <td>1990</td>\n",
              "      <td>6664016.0</td>\n",
              "    </tr>\n",
              "    <tr>\n",
              "      <th>1586</th>\n",
              "      <td>NC</td>\n",
              "      <td>total</td>\n",
              "      <td>1991</td>\n",
              "      <td>6784280.0</td>\n",
              "    </tr>\n",
              "    <tr>\n",
              "      <th>1587</th>\n",
              "      <td>NC</td>\n",
              "      <td>under18</td>\n",
              "      <td>1991</td>\n",
              "      <td>1640394.0</td>\n",
              "    </tr>\n",
              "    <tr>\n",
              "      <th>1590</th>\n",
              "      <td>NC</td>\n",
              "      <td>under18</td>\n",
              "      <td>1992</td>\n",
              "      <td>1674144.0</td>\n",
              "    </tr>\n",
              "  </tbody>\n",
              "</table>\n",
              "</div>"
            ],
            "text/plain": [
              "     state_region     ages  year  population\n",
              "1584           NC  under18  1990   1625804.0\n",
              "1585           NC    total  1990   6664016.0\n",
              "1586           NC    total  1991   6784280.0\n",
              "1587           NC  under18  1991   1640394.0\n",
              "1590           NC  under18  1992   1674144.0"
            ]
          },
          "metadata": {
            "tags": []
          },
          "execution_count": 10
        }
      ]
    },
    {
      "metadata": {
        "id": "sMxZX73-tQyj",
        "colab_type": "text"
      },
      "cell_type": "markdown",
      "source": [
        "### Step 8. Try to make a basic line plot showing year (X) and population (Y) using the plot() function from matplotlib."
      ]
    },
    {
      "metadata": {
        "id": "ElfVJX9ib6Tt",
        "colab_type": "text"
      },
      "cell_type": "markdown",
      "source": [
        "First, let's choose a chart theme."
      ]
    },
    {
      "metadata": {
        "id": "1ymqX5Sl_Eeu",
        "colab_type": "code",
        "outputId": "660f38c0-2755-4dce-b97e-c6dc0240abc3",
        "colab": {
          "base_uri": "https://localhost:8080/",
          "height": 54
        }
      },
      "cell_type": "code",
      "source": [
        "print(plt.style.available)  # note: this command lists all the themes available"
      ],
      "execution_count": 11,
      "outputs": [
        {
          "output_type": "stream",
          "text": [
            "['seaborn', 'grayscale', 'seaborn-poster', 'tableau-colorblind10', 'seaborn-dark-palette', 'seaborn-colorblind', 'seaborn-talk', 'ggplot', 'seaborn-bright', 'seaborn-dark', 'fast', 'seaborn-white', 'fivethirtyeight', 'seaborn-muted', 'seaborn-deep', 'bmh', 'classic', 'seaborn-paper', 'dark_background', 'seaborn-whitegrid', 'seaborn-notebook', 'Solarize_Light2', '_classic_test', 'seaborn-darkgrid', 'seaborn-pastel', 'seaborn-ticks']\n"
          ],
          "name": "stdout"
        }
      ]
    },
    {
      "metadata": {
        "id": "IT7dvNBLl10X",
        "colab_type": "code",
        "colab": {
          "base_uri": "https://localhost:8080/",
          "height": 375
        },
        "outputId": "d0dd7100-0080-4ac5-95d4-7bf4f0c0664d"
      },
      "cell_type": "code",
      "source": [
        "plt.style.use('seaborn-whitegrid') # note: this selects a plot theme and all future plots will have this theme\n",
        "\n",
        "\n",
        "plt.plot(dat_sorted.year,dat_sorted.population) # note: the plt at the beginning tells python that the plot function comes from matplotlib"
      ],
      "execution_count": 12,
      "outputs": [
        {
          "output_type": "execute_result",
          "data": {
            "text/plain": [
              "[<matplotlib.lines.Line2D at 0x7f896fa32d30>]"
            ]
          },
          "metadata": {
            "tags": []
          },
          "execution_count": 12
        },
        {
          "output_type": "display_data",
          "data": {
            "image/png": "[encoded data removed]",
            "text/plain": [
              "<Figure size 576x396 with 1 Axes>"
            ]
          },
          "metadata": {
            "tags": []
          }
        }
      ]
    },
    {
      "metadata": {
        "id": "zRbeBpwOcB83",
        "colab_type": "text"
      },
      "cell_type": "markdown",
      "source": [
        "This didn't look good because Python thought we needed to connect all of the data points with one line. But we want two lines: one for under18, and one for total."
      ]
    },
    {
      "metadata": {
        "id": "tTFcC23PcPUL",
        "colab_type": "code",
        "colab": {
          "base_uri": "https://localhost:8080/",
          "height": 850
        },
        "outputId": "06ad606b-0095-48eb-c162-af55028ef6cf"
      },
      "cell_type": "code",
      "source": [
        "dat_sorted.ages      "
      ],
      "execution_count": 13,
      "outputs": [
        {
          "output_type": "execute_result",
          "data": {
            "text/plain": [
              "1584    under18\n",
              "1585      total\n",
              "1586      total\n",
              "1587    under18\n",
              "1590    under18\n",
              "1591      total\n",
              "1588      total\n",
              "1589    under18\n",
              "1592    under18\n",
              "1593      total\n",
              "1595    under18\n",
              "1594      total\n",
              "1596    under18\n",
              "1597      total\n",
              "1600      total\n",
              "1601    under18\n",
              "1598    under18\n",
              "1599      total\n",
              "1604      total\n",
              "1605    under18\n",
              "1602      total\n",
              "1603    under18\n",
              "1607    under18\n",
              "1606      total\n",
              "1608      total\n",
              "1609    under18\n",
              "1612      total\n",
              "1613    under18\n",
              "1610      total\n",
              "1611    under18\n",
              "1614      total\n",
              "1615    under18\n",
              "1617    under18\n",
              "1616      total\n",
              "1621    under18\n",
              "1620      total\n",
              "1619    under18\n",
              "1618      total\n",
              "1624      total\n",
              "1625    under18\n",
              "1626      total\n",
              "1627    under18\n",
              "1629      total\n",
              "1628    under18\n",
              "1630    under18\n",
              "1631      total\n",
              "1622    under18\n",
              "1623      total\n",
              "Name: ages, dtype: object"
            ]
          },
          "metadata": {
            "tags": []
          },
          "execution_count": 13
        }
      ]
    },
    {
      "metadata": {
        "id": "eFe7kOG-w_QW",
        "colab_type": "text"
      },
      "cell_type": "markdown",
      "source": [
        "### Step 9. Let's try grouping the data on the **ages** variable."
      ]
    },
    {
      "metadata": {
        "id": "fWp9sIsgw2h9",
        "colab_type": "code",
        "colab": {
          "base_uri": "https://localhost:8080/",
          "height": 784
        },
        "outputId": "75037bc1-7324-4d41-b0ba-591c187d9040"
      },
      "cell_type": "code",
      "source": [
        "dat_sorted.groupby('ages').plot(x='year', y='population')"
      ],
      "execution_count": 15,
      "outputs": [
        {
          "output_type": "execute_result",
          "data": {
            "text/plain": [
              "ages\n",
              "total      AxesSubplot(0.125,0.125;0.775x0.755)\n",
              "under18    AxesSubplot(0.125,0.125;0.775x0.755)\n",
              "dtype: object"
            ]
          },
          "metadata": {
            "tags": []
          },
          "execution_count": 15
        },
        {
          "output_type": "display_data",
          "data": {
            "image/png": "[encoded data removed]",
            "text/plain": [
              "<Figure size 576x396 with 1 Axes>"
            ]
          },
          "metadata": {
            "tags": []
          }
        },
        {
          "output_type": "display_data",
          "data": {
            "image/png": "[encoded data removed]",
            "text/plain": [
              "<Figure size 576x396 with 1 Axes>"
            ]
          },
          "metadata": {
            "tags": []
          }
        }
      ]
    },
    {
      "metadata": {
        "id": "bd9jun-P_Hs4",
        "colab_type": "text"
      },
      "cell_type": "markdown",
      "source": [
        "### Step 10. To get the lines on the same graph, we need to make use of the subplots() function from matplotlib. This just tells python to draw the lines on the same chart.\n"
      ]
    },
    {
      "metadata": {
        "id": "FkI0PmBUo6Ho",
        "colab_type": "code",
        "colab": {
          "base_uri": "https://localhost:8080/",
          "height": 440
        },
        "outputId": "93fb9193-5f4d-4420-a3b3-a5da0edb3545"
      },
      "cell_type": "code",
      "source": [
        "fig, ax = plt.subplots()\n",
        "\n",
        "dat_sorted.groupby( 'ages'  ).plot(x= 'year'   , y= 'population'   , ax=ax    , legend=False    )"
      ],
      "execution_count": 16,
      "outputs": [
        {
          "output_type": "execute_result",
          "data": {
            "text/plain": [
              "ages\n",
              "total      AxesSubplot(0.125,0.125;0.775x0.755)\n",
              "under18    AxesSubplot(0.125,0.125;0.775x0.755)\n",
              "dtype: object"
            ]
          },
          "metadata": {
            "tags": []
          },
          "execution_count": 16
        },
        {
          "output_type": "display_data",
          "data": {
            "image/png": "[encoded data removed]",
            "text/plain": [
              "<Figure size 576x396 with 1 Axes>"
            ]
          },
          "metadata": {
            "tags": []
          }
        }
      ]
    },
    {
      "metadata": {
        "id": "X6esQSS7FgqU",
        "colab_type": "text"
      },
      "cell_type": "markdown",
      "source": [
        "### Step 11. Pandas has a pivot table feature that will allow us to separate the ages column into two columns, one for each age category (under18 and total). "
      ]
    },
    {
      "metadata": {
        "id": "a9tVtFsqBgG4",
        "colab_type": "code",
        "colab": {
          "base_uri": "https://localhost:8080/",
          "height": 266
        },
        "outputId": "d3f97830-c7c6-4243-b8b3-cc80b0f0fd35"
      },
      "cell_type": "code",
      "source": [
        "dat_pivot = pd.pivot_table(dat_sorted         , index=['state_region','year'       ], values=[ 'population'      ], columns=[ 'ages'   ])   # see the documentation here: https://pandas.pydata.org/pandas-docs/stable/generated/pandas.pivot_table.html\n",
        "\n",
        "dat_pivot.head()"
      ],
      "execution_count": 17,
      "outputs": [
        {
          "output_type": "execute_result",
          "data": {
            "text/html": [
              "<div>\n",
              "<style scoped>\n",
              "    .dataframe tbody tr th:only-of-type {\n",
              "        vertical-align: middle;\n",
              "    }\n",
              "\n",
              "    .dataframe tbody tr th {\n",
              "        vertical-align: top;\n",
              "    }\n",
              "\n",
              "    .dataframe thead tr th {\n",
              "        text-align: left;\n",
              "    }\n",
              "\n",
              "    .dataframe thead tr:last-of-type th {\n",
              "        text-align: right;\n",
              "    }\n",
              "</style>\n",
              "<table border=\"1\" class=\"dataframe\">\n",
              "  <thead>\n",
              "    <tr>\n",
              "      <th></th>\n",
              "      <th></th>\n",
              "      <th colspan=\"2\" halign=\"left\">population</th>\n",
              "    </tr>\n",
              "    <tr>\n",
              "      <th></th>\n",
              "      <th>ages</th>\n",
              "      <th>total</th>\n",
              "      <th>under18</th>\n",
              "    </tr>\n",
              "    <tr>\n",
              "      <th>state_region</th>\n",
              "      <th>year</th>\n",
              "      <th></th>\n",
              "      <th></th>\n",
              "    </tr>\n",
              "  </thead>\n",
              "  <tbody>\n",
              "    <tr>\n",
              "      <th rowspan=\"5\" valign=\"top\">NC</th>\n",
              "      <th>1990</th>\n",
              "      <td>6664016.0</td>\n",
              "      <td>1625804.0</td>\n",
              "    </tr>\n",
              "    <tr>\n",
              "      <th>1991</th>\n",
              "      <td>6784280.0</td>\n",
              "      <td>1640394.0</td>\n",
              "    </tr>\n",
              "    <tr>\n",
              "      <th>1992</th>\n",
              "      <td>6897214.0</td>\n",
              "      <td>1674144.0</td>\n",
              "    </tr>\n",
              "    <tr>\n",
              "      <th>1993</th>\n",
              "      <td>7042818.0</td>\n",
              "      <td>1710267.0</td>\n",
              "    </tr>\n",
              "    <tr>\n",
              "      <th>1994</th>\n",
              "      <td>7187398.0</td>\n",
              "      <td>1750754.0</td>\n",
              "    </tr>\n",
              "  </tbody>\n",
              "</table>\n",
              "</div>"
            ],
            "text/plain": [
              "                  population           \n",
              "ages                   total    under18\n",
              "state_region year                      \n",
              "NC           1990  6664016.0  1625804.0\n",
              "             1991  6784280.0  1640394.0\n",
              "             1992  6897214.0  1674144.0\n",
              "             1993  7042818.0  1710267.0\n",
              "             1994  7187398.0  1750754.0"
            ]
          },
          "metadata": {
            "tags": []
          },
          "execution_count": 17
        }
      ]
    },
    {
      "metadata": {
        "id": "rYPUbN6oUUST",
        "colab_type": "text"
      },
      "cell_type": "markdown",
      "source": [
        "### Step 12. Now that we have pivoted the data, we have to figure out how to access the data in each column. "
      ]
    },
    {
      "metadata": {
        "id": "5J155NVPuQ6D",
        "colab_type": "text"
      },
      "cell_type": "markdown",
      "source": [
        "Type **dat_pivot.year** and run the code. Note there is an error. That is because year is an index value. Index values can't be called like regular variables.\n",
        "\n"
      ]
    },
    {
      "metadata": {
        "id": "2K-qi96NUTVA",
        "colab_type": "code",
        "colab": {
          "base_uri": "https://localhost:8080/",
          "height": 282
        },
        "outputId": "96edf8bc-f519-4afd-fc91-187e499dd0a5"
      },
      "cell_type": "code",
      "source": [
        "dat_pivot.year"
      ],
      "execution_count": 18,
      "outputs": [
        {
          "output_type": "error",
          "ename": "AttributeError",
          "evalue": "ignored",
          "traceback": [
            "\u001b[0;31m---------------------------------------------------------------------------\u001b[0m",
            "\u001b[0;31mAttributeError\u001b[0m                            Traceback (most recent call last)",
            "\u001b[0;32m<ipython-input-18-fa2076bfb1fd>\u001b[0m in \u001b[0;36m<module>\u001b[0;34m()\u001b[0m\n\u001b[0;32m----> 1\u001b[0;31m \u001b[0mdat_pivot\u001b[0m\u001b[0;34m.\u001b[0m\u001b[0myear\u001b[0m\u001b[0;34m\u001b[0m\u001b[0;34m\u001b[0m\u001b[0m\n\u001b[0m",
            "\u001b[0;32m/usr/local/lib/python3.6/dist-packages/pandas/core/generic.py\u001b[0m in \u001b[0;36m__getattr__\u001b[0;34m(self, name)\u001b[0m\n\u001b[1;32m   3612\u001b[0m             \u001b[0;32mif\u001b[0m \u001b[0mname\u001b[0m \u001b[0;32min\u001b[0m \u001b[0mself\u001b[0m\u001b[0;34m.\u001b[0m\u001b[0m_info_axis\u001b[0m\u001b[0;34m:\u001b[0m\u001b[0;34m\u001b[0m\u001b[0;34m\u001b[0m\u001b[0m\n\u001b[1;32m   3613\u001b[0m                 \u001b[0;32mreturn\u001b[0m \u001b[0mself\u001b[0m\u001b[0;34m[\u001b[0m\u001b[0mname\u001b[0m\u001b[0;34m]\u001b[0m\u001b[0;34m\u001b[0m\u001b[0;34m\u001b[0m\u001b[0m\n\u001b[0;32m-> 3614\u001b[0;31m             \u001b[0;32mreturn\u001b[0m \u001b[0mobject\u001b[0m\u001b[0;34m.\u001b[0m\u001b[0m__getattribute__\u001b[0m\u001b[0;34m(\u001b[0m\u001b[0mself\u001b[0m\u001b[0;34m,\u001b[0m \u001b[0mname\u001b[0m\u001b[0;34m)\u001b[0m\u001b[0;34m\u001b[0m\u001b[0;34m\u001b[0m\u001b[0m\n\u001b[0m\u001b[1;32m   3615\u001b[0m \u001b[0;34m\u001b[0m\u001b[0m\n\u001b[1;32m   3616\u001b[0m     \u001b[0;32mdef\u001b[0m \u001b[0m__setattr__\u001b[0m\u001b[0;34m(\u001b[0m\u001b[0mself\u001b[0m\u001b[0;34m,\u001b[0m \u001b[0mname\u001b[0m\u001b[0;34m,\u001b[0m \u001b[0mvalue\u001b[0m\u001b[0;34m)\u001b[0m\u001b[0;34m:\u001b[0m\u001b[0;34m\u001b[0m\u001b[0;34m\u001b[0m\u001b[0m\n",
            "\u001b[0;31mAttributeError\u001b[0m: 'DataFrame' object has no attribute 'year'"
          ]
        }
      ]
    },
    {
      "metadata": {
        "id": "r7bvz_kjuVDk",
        "colab_type": "text"
      },
      "cell_type": "markdown",
      "source": [
        "Type **dat_pivot.reset_index()** to turn index values back into columns. This will make year into a regular column again.\n"
      ]
    },
    {
      "metadata": {
        "id": "kxqJwDtAWLWl",
        "colab_type": "code",
        "colab": {}
      },
      "cell_type": "code",
      "source": [
        "dat_pivot = dat_pivot.reset_index()\n",
        "\n"
      ],
      "execution_count": 0,
      "outputs": []
    },
    {
      "metadata": {
        "id": "3jTulT08uZDI",
        "colab_type": "text"
      },
      "cell_type": "markdown",
      "source": [
        "Now type **dat_pivot.year** and run the code. This should work."
      ]
    },
    {
      "metadata": {
        "id": "b4EUqmCOWVpA",
        "colab_type": "code",
        "colab": {
          "base_uri": "https://localhost:8080/",
          "height": 442
        },
        "outputId": "8945f1fa-de73-49f5-d3da-9cd8a63c7ec5"
      },
      "cell_type": "code",
      "source": [
        " dat_pivot.year\n",
        "\n"
      ],
      "execution_count": 20,
      "outputs": [
        {
          "output_type": "execute_result",
          "data": {
            "text/plain": [
              "0     1990\n",
              "1     1991\n",
              "2     1992\n",
              "3     1993\n",
              "4     1994\n",
              "5     1995\n",
              "6     1996\n",
              "7     1997\n",
              "8     1998\n",
              "9     1999\n",
              "10    2000\n",
              "11    2001\n",
              "12    2002\n",
              "13    2003\n",
              "14    2004\n",
              "15    2005\n",
              "16    2006\n",
              "17    2007\n",
              "18    2008\n",
              "19    2009\n",
              "20    2010\n",
              "21    2011\n",
              "22    2012\n",
              "23    2013\n",
              "Name: year, dtype: int64"
            ]
          },
          "metadata": {
            "tags": []
          },
          "execution_count": 20
        }
      ]
    },
    {
      "metadata": {
        "id": "jwXDpIv2ucpZ",
        "colab_type": "text"
      },
      "cell_type": "markdown",
      "source": [
        "Type **dat_pivot.total** and run the code. Notice there is an error. That's because the total variable is nested under the population field.\n"
      ]
    },
    {
      "metadata": {
        "id": "RNI5LGIlUf9K",
        "colab_type": "code",
        "colab": {}
      },
      "cell_type": "code",
      "source": [
        ""
      ],
      "execution_count": 0,
      "outputs": []
    },
    {
      "metadata": {
        "id": "aNR9OpvsufSl",
        "colab_type": "text"
      },
      "cell_type": "markdown",
      "source": [
        "Type **dat_pivot.population.total** and run the code. Why does this work?"
      ]
    },
    {
      "metadata": {
        "id": "-Qy6i2piUjTF",
        "colab_type": "code",
        "colab": {
          "base_uri": "https://localhost:8080/",
          "height": 442
        },
        "outputId": "76026f6b-1c0f-4c14-9061-12be1e90d5ea"
      },
      "cell_type": "code",
      "source": [
        "dat_pivot.population.total"
      ],
      "execution_count": 22,
      "outputs": [
        {
          "output_type": "execute_result",
          "data": {
            "text/plain": [
              "0     6664016.0\n",
              "1     6784280.0\n",
              "2     6897214.0\n",
              "3     7042818.0\n",
              "4     7187398.0\n",
              "5     7344674.0\n",
              "6     7500670.0\n",
              "7     7656825.0\n",
              "8     7809122.0\n",
              "9     7949362.0\n",
              "10    8081614.0\n",
              "11    8210122.0\n",
              "12    8326201.0\n",
              "13    8422501.0\n",
              "14    8553152.0\n",
              "15    8705407.0\n",
              "16    8917270.0\n",
              "17    9118037.0\n",
              "18    9309449.0\n",
              "19    9449566.0\n",
              "20    9559533.0\n",
              "21    9651377.0\n",
              "22    9748364.0\n",
              "23    9848060.0\n",
              "Name: total, dtype: float64"
            ]
          },
          "metadata": {
            "tags": []
          },
          "execution_count": 22
        }
      ]
    },
    {
      "metadata": {
        "id": "u9Dbu4xeu1mM",
        "colab_type": "text"
      },
      "cell_type": "markdown",
      "source": [
        "### Step 13. Here's another way to make the graph that we made earlier in step 10 using the pivoted data. Since we have two separate columns for ages (under18 and total), we can create the following line graphs: \n",
        "* **X1=year, Y1=total**\n",
        "* **X2=year, Y2=under18**\n",
        "\n",
        "---\n",
        "\n"
      ]
    },
    {
      "metadata": {
        "id": "T6WvuxSBHIDb",
        "colab_type": "code",
        "colab": {
          "base_uri": "https://localhost:8080/",
          "height": 375
        },
        "outputId": "e1af61f2-4a0f-43c6-f205-7ea8ff1f580c"
      },
      "cell_type": "code",
      "source": [
        "plt.plot(dat_pivot.year, dat_pivot.population.total       )\n",
        "plt.plot(dat_pivot.year,dat_pivot.population.under18       )"
      ],
      "execution_count": 23,
      "outputs": [
        {
          "output_type": "execute_result",
          "data": {
            "text/plain": [
              "[<matplotlib.lines.Line2D at 0x7f896cfcfda0>]"
            ]
          },
          "metadata": {
            "tags": []
          },
          "execution_count": 23
        },
        {
          "output_type": "display_data",
          "data": {
            "image/png": "[encoded data removed]",
            "text/plain": [
              "<Figure size 576x396 with 1 Axes>"
            ]
          },
          "metadata": {
            "tags": []
          }
        }
      ]
    },
    {
      "metadata": {
        "id": "qEsxpszr5Pu_",
        "colab_type": "text"
      },
      "cell_type": "markdown",
      "source": [
        "### Step 14. Read in a new dataset using pd.read_csv()."
      ]
    },
    {
      "metadata": {
        "id": "aFAfo6Ny5UDQ",
        "colab_type": "code",
        "colab": {}
      },
      "cell_type": "code",
      "source": [
        "url=\"https://raw.githubusercontent.com/alblaine/data-1/master/bad-drivers/bad-drivers.csv\"\n",
        "\n",
        "drivers = pd.read_csv(url)"
      ],
      "execution_count": 0,
      "outputs": []
    },
    {
      "metadata": {
        "id": "hyVArg186cMj",
        "colab_type": "text"
      },
      "cell_type": "markdown",
      "source": [
        "### Step 15. Look at the data using the head() command."
      ]
    },
    {
      "metadata": {
        "id": "V4Gev5U75i2Z",
        "colab_type": "code",
        "colab": {
          "base_uri": "https://localhost:8080/",
          "height": 272
        },
        "outputId": "5670a3c2-d26c-4256-f859-06655f2334d4"
      },
      "cell_type": "code",
      "source": [
        "drivers.head()"
      ],
      "execution_count": 25,
      "outputs": [
        {
          "output_type": "execute_result",
          "data": {
            "text/html": [
              "<div>\n",
              "<style scoped>\n",
              "    .dataframe tbody tr th:only-of-type {\n",
              "        vertical-align: middle;\n",
              "    }\n",
              "\n",
              "    .dataframe tbody tr th {\n",
              "        vertical-align: top;\n",
              "    }\n",
              "\n",
              "    .dataframe thead th {\n",
              "        text-align: right;\n",
              "    }\n",
              "</style>\n",
              "<table border=\"1\" class=\"dataframe\">\n",
              "  <thead>\n",
              "    <tr style=\"text-align: right;\">\n",
              "      <th></th>\n",
              "      <th>State</th>\n",
              "      <th>Number of drivers involved in fatal collisions per billion miles</th>\n",
              "      <th>Percentage Of Drivers Involved In Fatal Collisions Who Were Speeding</th>\n",
              "      <th>Percentage Of Drivers Involved In Fatal Collisions Who Were Alcohol-Impaired</th>\n",
              "      <th>Percentage Of Drivers Involved In Fatal Collisions Who Were Not Distracted</th>\n",
              "      <th>Percentage Of Drivers Involved In Fatal Collisions Who Had Not Been Involved In Any Previous Accidents</th>\n",
              "      <th>Car Insurance Premiums ($)</th>\n",
              "      <th>Losses incurred by insurance companies for collisions per insured driver ($)</th>\n",
              "    </tr>\n",
              "  </thead>\n",
              "  <tbody>\n",
              "    <tr>\n",
              "      <th>0</th>\n",
              "      <td>Alabama</td>\n",
              "      <td>18.8</td>\n",
              "      <td>39</td>\n",
              "      <td>30</td>\n",
              "      <td>96</td>\n",
              "      <td>80</td>\n",
              "      <td>784.55</td>\n",
              "      <td>145.08</td>\n",
              "    </tr>\n",
              "    <tr>\n",
              "      <th>1</th>\n",
              "      <td>Alaska</td>\n",
              "      <td>18.1</td>\n",
              "      <td>41</td>\n",
              "      <td>25</td>\n",
              "      <td>90</td>\n",
              "      <td>94</td>\n",
              "      <td>1053.48</td>\n",
              "      <td>133.93</td>\n",
              "    </tr>\n",
              "    <tr>\n",
              "      <th>2</th>\n",
              "      <td>Arizona</td>\n",
              "      <td>18.6</td>\n",
              "      <td>35</td>\n",
              "      <td>28</td>\n",
              "      <td>84</td>\n",
              "      <td>96</td>\n",
              "      <td>899.47</td>\n",
              "      <td>110.35</td>\n",
              "    </tr>\n",
              "    <tr>\n",
              "      <th>3</th>\n",
              "      <td>Arkansas</td>\n",
              "      <td>22.4</td>\n",
              "      <td>18</td>\n",
              "      <td>26</td>\n",
              "      <td>94</td>\n",
              "      <td>95</td>\n",
              "      <td>827.34</td>\n",
              "      <td>142.39</td>\n",
              "    </tr>\n",
              "    <tr>\n",
              "      <th>4</th>\n",
              "      <td>California</td>\n",
              "      <td>12.0</td>\n",
              "      <td>35</td>\n",
              "      <td>28</td>\n",
              "      <td>91</td>\n",
              "      <td>89</td>\n",
              "      <td>878.41</td>\n",
              "      <td>165.63</td>\n",
              "    </tr>\n",
              "  </tbody>\n",
              "</table>\n",
              "</div>"
            ],
            "text/plain": [
              "        State  \\\n",
              "0     Alabama   \n",
              "1      Alaska   \n",
              "2     Arizona   \n",
              "3    Arkansas   \n",
              "4  California   \n",
              "\n",
              "   Number of drivers involved in fatal collisions per billion miles  \\\n",
              "0                                               18.8                  \n",
              "1                                               18.1                  \n",
              "2                                               18.6                  \n",
              "3                                               22.4                  \n",
              "4                                               12.0                  \n",
              "\n",
              "   Percentage Of Drivers Involved In Fatal Collisions Who Were Speeding  \\\n",
              "0                                                 39                      \n",
              "1                                                 41                      \n",
              "2                                                 35                      \n",
              "3                                                 18                      \n",
              "4                                                 35                      \n",
              "\n",
              "   Percentage Of Drivers Involved In Fatal Collisions Who Were Alcohol-Impaired  \\\n",
              "0                                                 30                              \n",
              "1                                                 25                              \n",
              "2                                                 28                              \n",
              "3                                                 26                              \n",
              "4                                                 28                              \n",
              "\n",
              "   Percentage Of Drivers Involved In Fatal Collisions Who Were Not Distracted  \\\n",
              "0                                                 96                            \n",
              "1                                                 90                            \n",
              "2                                                 84                            \n",
              "3                                                 94                            \n",
              "4                                                 91                            \n",
              "\n",
              "   Percentage Of Drivers Involved In Fatal Collisions Who Had Not Been Involved In Any Previous Accidents  \\\n",
              "0                                                 80                                                        \n",
              "1                                                 94                                                        \n",
              "2                                                 96                                                        \n",
              "3                                                 95                                                        \n",
              "4                                                 89                                                        \n",
              "\n",
              "   Car Insurance Premiums ($)  \\\n",
              "0                      784.55   \n",
              "1                     1053.48   \n",
              "2                      899.47   \n",
              "3                      827.34   \n",
              "4                      878.41   \n",
              "\n",
              "   Losses incurred by insurance companies for collisions per insured driver ($)  \n",
              "0                                             145.08                             \n",
              "1                                             133.93                             \n",
              "2                                             110.35                             \n",
              "3                                             142.39                             \n",
              "4                                             165.63                             "
            ]
          },
          "metadata": {
            "tags": []
          },
          "execution_count": 25
        }
      ]
    },
    {
      "metadata": {
        "id": "DCL97xg-6lBX",
        "colab_type": "text"
      },
      "cell_type": "markdown",
      "source": [
        "### Step 16. Look at the column headers for this dataset using .columns"
      ]
    },
    {
      "metadata": {
        "id": "Kw69T_i76tGi",
        "colab_type": "code",
        "colab": {
          "base_uri": "https://localhost:8080/",
          "height": 170
        },
        "outputId": "f6bf5217-88ef-4943-ca9f-12f0b5f3123f"
      },
      "cell_type": "code",
      "source": [
        "drivers.columns"
      ],
      "execution_count": 27,
      "outputs": [
        {
          "output_type": "execute_result",
          "data": {
            "text/plain": [
              "Index(['State',\n",
              "       'Number of drivers involved in fatal collisions per billion miles',\n",
              "       'Percentage Of Drivers Involved In Fatal Collisions Who Were Speeding',\n",
              "       'Percentage Of Drivers Involved In Fatal Collisions Who Were Alcohol-Impaired',\n",
              "       'Percentage Of Drivers Involved In Fatal Collisions Who Were Not Distracted',\n",
              "       'Percentage Of Drivers Involved In Fatal Collisions Who Had Not Been Involved In Any Previous Accidents',\n",
              "       'Car Insurance Premiums ($)',\n",
              "       'Losses incurred by insurance companies for collisions per insured driver ($)'],\n",
              "      dtype='object')"
            ]
          },
          "metadata": {
            "tags": []
          },
          "execution_count": 27
        }
      ]
    },
    {
      "metadata": {
        "id": "wzG38u_e6t7I",
        "colab_type": "text"
      },
      "cell_type": "markdown",
      "source": [
        "### Step 17. Rename the columns to shorter names using rename()"
      ]
    },
    {
      "metadata": {
        "id": "ekZpsOo58YD6",
        "colab_type": "code",
        "colab": {}
      },
      "cell_type": "code",
      "source": [
        "drivers_renamed = drivers.rename(columns={'Number of drivers involved in fatal collisions per billion miles':'num_per_billion',\n",
        "       'Percentage Of Drivers Involved In Fatal Collisions Who Were Speeding':'%_speeding',\n",
        "       'Percentage Of Drivers Involved In Fatal Collisions Who Were Alcohol-Impaired':'%_alcohol_impaired',\n",
        "       'Percentage Of Drivers Involved In Fatal Collisions Who Were Not Distracted':'%_not_distracted',\n",
        "       'Percentage Of Drivers Involved In Fatal Collisions Who Had Not Been Involved In Any Previous Accidents':'%_no_accidents',\n",
        "       'Car Insurance Premiums ($)':'premiums',\n",
        "       'Losses incurred by insurance companies for collisions per insured driver ($)':'losses'})\n",
        "                       \n",
        "                                 "
      ],
      "execution_count": 0,
      "outputs": []
    },
    {
      "metadata": {
        "id": "i73-TA7q-4ej",
        "colab_type": "code",
        "colab": {
          "base_uri": "https://localhost:8080/",
          "height": 204
        },
        "outputId": "c86946df-21cc-4850-8d02-a138c1b57125"
      },
      "cell_type": "code",
      "source": [
        "drivers_renamed.head()\n"
      ],
      "execution_count": 31,
      "outputs": [
        {
          "output_type": "execute_result",
          "data": {
            "text/html": [
              "<div>\n",
              "<style scoped>\n",
              "    .dataframe tbody tr th:only-of-type {\n",
              "        vertical-align: middle;\n",
              "    }\n",
              "\n",
              "    .dataframe tbody tr th {\n",
              "        vertical-align: top;\n",
              "    }\n",
              "\n",
              "    .dataframe thead th {\n",
              "        text-align: right;\n",
              "    }\n",
              "</style>\n",
              "<table border=\"1\" class=\"dataframe\">\n",
              "  <thead>\n",
              "    <tr style=\"text-align: right;\">\n",
              "      <th></th>\n",
              "      <th>State</th>\n",
              "      <th>num_per_billion</th>\n",
              "      <th>%_speeding</th>\n",
              "      <th>%_alcohol_impaired</th>\n",
              "      <th>%_not_distracted</th>\n",
              "      <th>%_no_accidents</th>\n",
              "      <th>premiums</th>\n",
              "      <th>losses</th>\n",
              "    </tr>\n",
              "  </thead>\n",
              "  <tbody>\n",
              "    <tr>\n",
              "      <th>0</th>\n",
              "      <td>Alabama</td>\n",
              "      <td>18.8</td>\n",
              "      <td>39</td>\n",
              "      <td>30</td>\n",
              "      <td>96</td>\n",
              "      <td>80</td>\n",
              "      <td>784.55</td>\n",
              "      <td>145.08</td>\n",
              "    </tr>\n",
              "    <tr>\n",
              "      <th>1</th>\n",
              "      <td>Alaska</td>\n",
              "      <td>18.1</td>\n",
              "      <td>41</td>\n",
              "      <td>25</td>\n",
              "      <td>90</td>\n",
              "      <td>94</td>\n",
              "      <td>1053.48</td>\n",
              "      <td>133.93</td>\n",
              "    </tr>\n",
              "    <tr>\n",
              "      <th>2</th>\n",
              "      <td>Arizona</td>\n",
              "      <td>18.6</td>\n",
              "      <td>35</td>\n",
              "      <td>28</td>\n",
              "      <td>84</td>\n",
              "      <td>96</td>\n",
              "      <td>899.47</td>\n",
              "      <td>110.35</td>\n",
              "    </tr>\n",
              "    <tr>\n",
              "      <th>3</th>\n",
              "      <td>Arkansas</td>\n",
              "      <td>22.4</td>\n",
              "      <td>18</td>\n",
              "      <td>26</td>\n",
              "      <td>94</td>\n",
              "      <td>95</td>\n",
              "      <td>827.34</td>\n",
              "      <td>142.39</td>\n",
              "    </tr>\n",
              "    <tr>\n",
              "      <th>4</th>\n",
              "      <td>California</td>\n",
              "      <td>12.0</td>\n",
              "      <td>35</td>\n",
              "      <td>28</td>\n",
              "      <td>91</td>\n",
              "      <td>89</td>\n",
              "      <td>878.41</td>\n",
              "      <td>165.63</td>\n",
              "    </tr>\n",
              "  </tbody>\n",
              "</table>\n",
              "</div>"
            ],
            "text/plain": [
              "        State  num_per_billion  %_speeding  %_alcohol_impaired  \\\n",
              "0     Alabama             18.8          39                  30   \n",
              "1      Alaska             18.1          41                  25   \n",
              "2     Arizona             18.6          35                  28   \n",
              "3    Arkansas             22.4          18                  26   \n",
              "4  California             12.0          35                  28   \n",
              "\n",
              "   %_not_distracted  %_no_accidents  premiums  losses  \n",
              "0                96              80    784.55  145.08  \n",
              "1                90              94   1053.48  133.93  \n",
              "2                84              96    899.47  110.35  \n",
              "3                94              95    827.34  142.39  \n",
              "4                91              89    878.41  165.63  "
            ]
          },
          "metadata": {
            "tags": []
          },
          "execution_count": 31
        }
      ]
    },
    {
      "metadata": {
        "id": "Ojv5Xp-8D5-5",
        "colab_type": "text"
      },
      "cell_type": "markdown",
      "source": [
        "### Step 18. Create a new dataset keeping only the state, premiums, and losses columns."
      ]
    },
    {
      "metadata": {
        "id": "1zARLm8pC9kB",
        "colab_type": "code",
        "colab": {
          "base_uri": "https://localhost:8080/",
          "height": 1630
        },
        "outputId": "d9d37b20-6089-47fb-b24b-30dfba7d9b9f"
      },
      "cell_type": "code",
      "source": [
        "drivers_pl = drivers_renamed.iloc[:, [0, 6, 7]]  # keep only the columns that are in the 0th, 6th, and 7th column position in the dataset\n",
        "drivers_pl\n",
        "\n"
      ],
      "execution_count": 33,
      "outputs": [
        {
          "output_type": "execute_result",
          "data": {
            "text/html": [
              "<div>\n",
              "<style scoped>\n",
              "    .dataframe tbody tr th:only-of-type {\n",
              "        vertical-align: middle;\n",
              "    }\n",
              "\n",
              "    .dataframe tbody tr th {\n",
              "        vertical-align: top;\n",
              "    }\n",
              "\n",
              "    .dataframe thead th {\n",
              "        text-align: right;\n",
              "    }\n",
              "</style>\n",
              "<table border=\"1\" class=\"dataframe\">\n",
              "  <thead>\n",
              "    <tr style=\"text-align: right;\">\n",
              "      <th></th>\n",
              "      <th>State</th>\n",
              "      <th>premiums</th>\n",
              "      <th>losses</th>\n",
              "    </tr>\n",
              "  </thead>\n",
              "  <tbody>\n",
              "    <tr>\n",
              "      <th>0</th>\n",
              "      <td>Alabama</td>\n",
              "      <td>784.55</td>\n",
              "      <td>145.08</td>\n",
              "    </tr>\n",
              "    <tr>\n",
              "      <th>1</th>\n",
              "      <td>Alaska</td>\n",
              "      <td>1053.48</td>\n",
              "      <td>133.93</td>\n",
              "    </tr>\n",
              "    <tr>\n",
              "      <th>2</th>\n",
              "      <td>Arizona</td>\n",
              "      <td>899.47</td>\n",
              "      <td>110.35</td>\n",
              "    </tr>\n",
              "    <tr>\n",
              "      <th>3</th>\n",
              "      <td>Arkansas</td>\n",
              "      <td>827.34</td>\n",
              "      <td>142.39</td>\n",
              "    </tr>\n",
              "    <tr>\n",
              "      <th>4</th>\n",
              "      <td>California</td>\n",
              "      <td>878.41</td>\n",
              "      <td>165.63</td>\n",
              "    </tr>\n",
              "    <tr>\n",
              "      <th>5</th>\n",
              "      <td>Colorado</td>\n",
              "      <td>835.50</td>\n",
              "      <td>139.91</td>\n",
              "    </tr>\n",
              "    <tr>\n",
              "      <th>6</th>\n",
              "      <td>Connecticut</td>\n",
              "      <td>1068.73</td>\n",
              "      <td>167.02</td>\n",
              "    </tr>\n",
              "    <tr>\n",
              "      <th>7</th>\n",
              "      <td>Delaware</td>\n",
              "      <td>1137.87</td>\n",
              "      <td>151.48</td>\n",
              "    </tr>\n",
              "    <tr>\n",
              "      <th>8</th>\n",
              "      <td>District of Columbia</td>\n",
              "      <td>1273.89</td>\n",
              "      <td>136.05</td>\n",
              "    </tr>\n",
              "    <tr>\n",
              "      <th>9</th>\n",
              "      <td>Florida</td>\n",
              "      <td>1160.13</td>\n",
              "      <td>144.18</td>\n",
              "    </tr>\n",
              "    <tr>\n",
              "      <th>10</th>\n",
              "      <td>Georgia</td>\n",
              "      <td>913.15</td>\n",
              "      <td>142.80</td>\n",
              "    </tr>\n",
              "    <tr>\n",
              "      <th>11</th>\n",
              "      <td>Hawaii</td>\n",
              "      <td>861.18</td>\n",
              "      <td>120.92</td>\n",
              "    </tr>\n",
              "    <tr>\n",
              "      <th>12</th>\n",
              "      <td>Idaho</td>\n",
              "      <td>641.96</td>\n",
              "      <td>82.75</td>\n",
              "    </tr>\n",
              "    <tr>\n",
              "      <th>13</th>\n",
              "      <td>Illinois</td>\n",
              "      <td>803.11</td>\n",
              "      <td>139.15</td>\n",
              "    </tr>\n",
              "    <tr>\n",
              "      <th>14</th>\n",
              "      <td>Indiana</td>\n",
              "      <td>710.46</td>\n",
              "      <td>108.92</td>\n",
              "    </tr>\n",
              "    <tr>\n",
              "      <th>15</th>\n",
              "      <td>Iowa</td>\n",
              "      <td>649.06</td>\n",
              "      <td>114.47</td>\n",
              "    </tr>\n",
              "    <tr>\n",
              "      <th>16</th>\n",
              "      <td>Kansas</td>\n",
              "      <td>780.45</td>\n",
              "      <td>133.80</td>\n",
              "    </tr>\n",
              "    <tr>\n",
              "      <th>17</th>\n",
              "      <td>Kentucky</td>\n",
              "      <td>872.51</td>\n",
              "      <td>137.13</td>\n",
              "    </tr>\n",
              "    <tr>\n",
              "      <th>18</th>\n",
              "      <td>Louisiana</td>\n",
              "      <td>1281.55</td>\n",
              "      <td>194.78</td>\n",
              "    </tr>\n",
              "    <tr>\n",
              "      <th>19</th>\n",
              "      <td>Maine</td>\n",
              "      <td>661.88</td>\n",
              "      <td>96.57</td>\n",
              "    </tr>\n",
              "    <tr>\n",
              "      <th>20</th>\n",
              "      <td>Maryland</td>\n",
              "      <td>1048.78</td>\n",
              "      <td>192.70</td>\n",
              "    </tr>\n",
              "    <tr>\n",
              "      <th>21</th>\n",
              "      <td>Massachusetts</td>\n",
              "      <td>1011.14</td>\n",
              "      <td>135.63</td>\n",
              "    </tr>\n",
              "    <tr>\n",
              "      <th>22</th>\n",
              "      <td>Michigan</td>\n",
              "      <td>1110.61</td>\n",
              "      <td>152.26</td>\n",
              "    </tr>\n",
              "    <tr>\n",
              "      <th>23</th>\n",
              "      <td>Minnesota</td>\n",
              "      <td>777.18</td>\n",
              "      <td>133.35</td>\n",
              "    </tr>\n",
              "    <tr>\n",
              "      <th>24</th>\n",
              "      <td>Mississippi</td>\n",
              "      <td>896.07</td>\n",
              "      <td>155.77</td>\n",
              "    </tr>\n",
              "    <tr>\n",
              "      <th>25</th>\n",
              "      <td>Missouri</td>\n",
              "      <td>790.32</td>\n",
              "      <td>144.45</td>\n",
              "    </tr>\n",
              "    <tr>\n",
              "      <th>26</th>\n",
              "      <td>Montana</td>\n",
              "      <td>816.21</td>\n",
              "      <td>85.15</td>\n",
              "    </tr>\n",
              "    <tr>\n",
              "      <th>27</th>\n",
              "      <td>Nebraska</td>\n",
              "      <td>732.28</td>\n",
              "      <td>114.82</td>\n",
              "    </tr>\n",
              "    <tr>\n",
              "      <th>28</th>\n",
              "      <td>Nevada</td>\n",
              "      <td>1029.87</td>\n",
              "      <td>138.71</td>\n",
              "    </tr>\n",
              "    <tr>\n",
              "      <th>29</th>\n",
              "      <td>New Hampshire</td>\n",
              "      <td>746.54</td>\n",
              "      <td>120.21</td>\n",
              "    </tr>\n",
              "    <tr>\n",
              "      <th>30</th>\n",
              "      <td>New Jersey</td>\n",
              "      <td>1301.52</td>\n",
              "      <td>159.85</td>\n",
              "    </tr>\n",
              "    <tr>\n",
              "      <th>31</th>\n",
              "      <td>New Mexico</td>\n",
              "      <td>869.85</td>\n",
              "      <td>120.75</td>\n",
              "    </tr>\n",
              "    <tr>\n",
              "      <th>32</th>\n",
              "      <td>New York</td>\n",
              "      <td>1234.31</td>\n",
              "      <td>150.01</td>\n",
              "    </tr>\n",
              "    <tr>\n",
              "      <th>33</th>\n",
              "      <td>North Carolina</td>\n",
              "      <td>708.24</td>\n",
              "      <td>127.82</td>\n",
              "    </tr>\n",
              "    <tr>\n",
              "      <th>34</th>\n",
              "      <td>North Dakota</td>\n",
              "      <td>688.75</td>\n",
              "      <td>109.72</td>\n",
              "    </tr>\n",
              "    <tr>\n",
              "      <th>35</th>\n",
              "      <td>Ohio</td>\n",
              "      <td>697.73</td>\n",
              "      <td>133.52</td>\n",
              "    </tr>\n",
              "    <tr>\n",
              "      <th>36</th>\n",
              "      <td>Oklahoma</td>\n",
              "      <td>881.51</td>\n",
              "      <td>178.86</td>\n",
              "    </tr>\n",
              "    <tr>\n",
              "      <th>37</th>\n",
              "      <td>Oregon</td>\n",
              "      <td>804.71</td>\n",
              "      <td>104.61</td>\n",
              "    </tr>\n",
              "    <tr>\n",
              "      <th>38</th>\n",
              "      <td>Pennsylvania</td>\n",
              "      <td>905.99</td>\n",
              "      <td>153.86</td>\n",
              "    </tr>\n",
              "    <tr>\n",
              "      <th>39</th>\n",
              "      <td>Rhode Island</td>\n",
              "      <td>1148.99</td>\n",
              "      <td>148.58</td>\n",
              "    </tr>\n",
              "    <tr>\n",
              "      <th>40</th>\n",
              "      <td>South Carolina</td>\n",
              "      <td>858.97</td>\n",
              "      <td>116.29</td>\n",
              "    </tr>\n",
              "    <tr>\n",
              "      <th>41</th>\n",
              "      <td>South Dakota</td>\n",
              "      <td>669.31</td>\n",
              "      <td>96.87</td>\n",
              "    </tr>\n",
              "    <tr>\n",
              "      <th>42</th>\n",
              "      <td>Tennessee</td>\n",
              "      <td>767.91</td>\n",
              "      <td>155.57</td>\n",
              "    </tr>\n",
              "    <tr>\n",
              "      <th>43</th>\n",
              "      <td>Texas</td>\n",
              "      <td>1004.75</td>\n",
              "      <td>156.83</td>\n",
              "    </tr>\n",
              "    <tr>\n",
              "      <th>44</th>\n",
              "      <td>Utah</td>\n",
              "      <td>809.38</td>\n",
              "      <td>109.48</td>\n",
              "    </tr>\n",
              "    <tr>\n",
              "      <th>45</th>\n",
              "      <td>Vermont</td>\n",
              "      <td>716.20</td>\n",
              "      <td>109.61</td>\n",
              "    </tr>\n",
              "    <tr>\n",
              "      <th>46</th>\n",
              "      <td>Virginia</td>\n",
              "      <td>768.95</td>\n",
              "      <td>153.72</td>\n",
              "    </tr>\n",
              "    <tr>\n",
              "      <th>47</th>\n",
              "      <td>Washington</td>\n",
              "      <td>890.03</td>\n",
              "      <td>111.62</td>\n",
              "    </tr>\n",
              "    <tr>\n",
              "      <th>48</th>\n",
              "      <td>West Virginia</td>\n",
              "      <td>992.61</td>\n",
              "      <td>152.56</td>\n",
              "    </tr>\n",
              "    <tr>\n",
              "      <th>49</th>\n",
              "      <td>Wisconsin</td>\n",
              "      <td>670.31</td>\n",
              "      <td>106.62</td>\n",
              "    </tr>\n",
              "    <tr>\n",
              "      <th>50</th>\n",
              "      <td>Wyoming</td>\n",
              "      <td>791.14</td>\n",
              "      <td>122.04</td>\n",
              "    </tr>\n",
              "  </tbody>\n",
              "</table>\n",
              "</div>"
            ],
            "text/plain": [
              "                   State  premiums  losses\n",
              "0                Alabama    784.55  145.08\n",
              "1                 Alaska   1053.48  133.93\n",
              "2                Arizona    899.47  110.35\n",
              "3               Arkansas    827.34  142.39\n",
              "4             California    878.41  165.63\n",
              "5               Colorado    835.50  139.91\n",
              "6            Connecticut   1068.73  167.02\n",
              "7               Delaware   1137.87  151.48\n",
              "8   District of Columbia   1273.89  136.05\n",
              "9                Florida   1160.13  144.18\n",
              "10               Georgia    913.15  142.80\n",
              "11                Hawaii    861.18  120.92\n",
              "12                 Idaho    641.96   82.75\n",
              "13              Illinois    803.11  139.15\n",
              "14               Indiana    710.46  108.92\n",
              "15                  Iowa    649.06  114.47\n",
              "16                Kansas    780.45  133.80\n",
              "17              Kentucky    872.51  137.13\n",
              "18             Louisiana   1281.55  194.78\n",
              "19                 Maine    661.88   96.57\n",
              "20              Maryland   1048.78  192.70\n",
              "21         Massachusetts   1011.14  135.63\n",
              "22              Michigan   1110.61  152.26\n",
              "23             Minnesota    777.18  133.35\n",
              "24           Mississippi    896.07  155.77\n",
              "25              Missouri    790.32  144.45\n",
              "26               Montana    816.21   85.15\n",
              "27              Nebraska    732.28  114.82\n",
              "28                Nevada   1029.87  138.71\n",
              "29         New Hampshire    746.54  120.21\n",
              "30            New Jersey   1301.52  159.85\n",
              "31            New Mexico    869.85  120.75\n",
              "32              New York   1234.31  150.01\n",
              "33        North Carolina    708.24  127.82\n",
              "34          North Dakota    688.75  109.72\n",
              "35                  Ohio    697.73  133.52\n",
              "36              Oklahoma    881.51  178.86\n",
              "37                Oregon    804.71  104.61\n",
              "38          Pennsylvania    905.99  153.86\n",
              "39          Rhode Island   1148.99  148.58\n",
              "40        South Carolina    858.97  116.29\n",
              "41          South Dakota    669.31   96.87\n",
              "42             Tennessee    767.91  155.57\n",
              "43                 Texas   1004.75  156.83\n",
              "44                  Utah    809.38  109.48\n",
              "45               Vermont    716.20  109.61\n",
              "46              Virginia    768.95  153.72\n",
              "47            Washington    890.03  111.62\n",
              "48         West Virginia    992.61  152.56\n",
              "49             Wisconsin    670.31  106.62\n",
              "50               Wyoming    791.14  122.04"
            ]
          },
          "metadata": {
            "tags": []
          },
          "execution_count": 33
        }
      ]
    },
    {
      "metadata": {
        "id": "BsIyGljIERhl",
        "colab_type": "text"
      },
      "cell_type": "markdown",
      "source": [
        "### Step 19. Create a new variable, ratio, that is the ratio of losses to premiums (ratio= losses/premiums)"
      ]
    },
    {
      "metadata": {
        "id": "bk0927NtEvlJ",
        "colab_type": "code",
        "colab": {}
      },
      "cell_type": "code",
      "source": [
        "drivers_pl = drivers_pl.assign(ratio=drivers_pl.losses/drivers_pl.premiums              )"
      ],
      "execution_count": 0,
      "outputs": []
    },
    {
      "metadata": {
        "id": "mwfxA7xpFrgI",
        "colab_type": "text"
      },
      "cell_type": "markdown",
      "source": [
        "### Step 20. Create a scatter plot showing premiums = X, losses = Y."
      ]
    },
    {
      "metadata": {
        "id": "goMNMAlZIEAD",
        "colab_type": "code",
        "colab": {
          "base_uri": "https://localhost:8080/",
          "height": 367
        },
        "outputId": "c3825307-a56a-46b1-acd1-b6803ab260b4"
      },
      "cell_type": "code",
      "source": [
        "plt.scatter(drivers_pl.premiums,drivers_pl.losses      )"
      ],
      "execution_count": 36,
      "outputs": [
        {
          "output_type": "execute_result",
          "data": {
            "text/plain": [
              "<matplotlib.collections.PathCollection at 0x7f896cf1b668>"
            ]
          },
          "metadata": {
            "tags": []
          },
          "execution_count": 36
        },
        {
          "output_type": "display_data",
          "data": {
            "image/png": "[encoded data removed]",
            "text/plain": [
              "<Figure size 576x396 with 1 Axes>"
            ]
          },
          "metadata": {
            "tags": []
          }
        }
      ]
    },
    {
      "metadata": {
        "id": "Ag6mT2ELLlP-",
        "colab_type": "text"
      },
      "cell_type": "markdown",
      "source": [
        "### Step 21. Get summary statistics about the drivers_pl dataset."
      ]
    },
    {
      "metadata": {
        "id": "2FpSrOJYpWIt",
        "colab_type": "text"
      },
      "cell_type": "markdown",
      "source": [
        "Type drivers_pl.describe()"
      ]
    },
    {
      "metadata": {
        "id": "OWXzLFXPLYnn",
        "colab_type": "code",
        "colab": {
          "base_uri": "https://localhost:8080/",
          "height": 297
        },
        "outputId": "bbc55a24-fef6-48f2-ad87-d9a71b8ddad0"
      },
      "cell_type": "code",
      "source": [
        "drivers_pl.describe()"
      ],
      "execution_count": 37,
      "outputs": [
        {
          "output_type": "execute_result",
          "data": {
            "text/html": [
              "<div>\n",
              "<style scoped>\n",
              "    .dataframe tbody tr th:only-of-type {\n",
              "        vertical-align: middle;\n",
              "    }\n",
              "\n",
              "    .dataframe tbody tr th {\n",
              "        vertical-align: top;\n",
              "    }\n",
              "\n",
              "    .dataframe thead th {\n",
              "        text-align: right;\n",
              "    }\n",
              "</style>\n",
              "<table border=\"1\" class=\"dataframe\">\n",
              "  <thead>\n",
              "    <tr style=\"text-align: right;\">\n",
              "      <th></th>\n",
              "      <th>premiums</th>\n",
              "      <th>losses</th>\n",
              "      <th>ratio</th>\n",
              "    </tr>\n",
              "  </thead>\n",
              "  <tbody>\n",
              "    <tr>\n",
              "      <th>count</th>\n",
              "      <td>51.000000</td>\n",
              "      <td>51.000000</td>\n",
              "      <td>51.000000</td>\n",
              "    </tr>\n",
              "    <tr>\n",
              "      <th>mean</th>\n",
              "      <td>886.957647</td>\n",
              "      <td>134.493137</td>\n",
              "      <td>0.153809</td>\n",
              "    </tr>\n",
              "    <tr>\n",
              "      <th>std</th>\n",
              "      <td>178.296285</td>\n",
              "      <td>24.835922</td>\n",
              "      <td>0.024613</td>\n",
              "    </tr>\n",
              "    <tr>\n",
              "      <th>min</th>\n",
              "      <td>641.960000</td>\n",
              "      <td>82.750000</td>\n",
              "      <td>0.104324</td>\n",
              "    </tr>\n",
              "    <tr>\n",
              "      <th>25%</th>\n",
              "      <td>768.430000</td>\n",
              "      <td>114.645000</td>\n",
              "      <td>0.134411</td>\n",
              "    </tr>\n",
              "    <tr>\n",
              "      <th>50%</th>\n",
              "      <td>858.970000</td>\n",
              "      <td>136.050000</td>\n",
              "      <td>0.154258</td>\n",
              "    </tr>\n",
              "    <tr>\n",
              "      <th>75%</th>\n",
              "      <td>1007.945000</td>\n",
              "      <td>151.870000</td>\n",
              "      <td>0.171844</td>\n",
              "    </tr>\n",
              "    <tr>\n",
              "      <th>max</th>\n",
              "      <td>1301.520000</td>\n",
              "      <td>194.780000</td>\n",
              "      <td>0.202902</td>\n",
              "    </tr>\n",
              "  </tbody>\n",
              "</table>\n",
              "</div>"
            ],
            "text/plain": [
              "          premiums      losses      ratio\n",
              "count    51.000000   51.000000  51.000000\n",
              "mean    886.957647  134.493137   0.153809\n",
              "std     178.296285   24.835922   0.024613\n",
              "min     641.960000   82.750000   0.104324\n",
              "25%     768.430000  114.645000   0.134411\n",
              "50%     858.970000  136.050000   0.154258\n",
              "75%    1007.945000  151.870000   0.171844\n",
              "max    1301.520000  194.780000   0.202902"
            ]
          },
          "metadata": {
            "tags": []
          },
          "execution_count": 37
        }
      ]
    },
    {
      "metadata": {
        "id": "4UDen3_1LtqG",
        "colab_type": "text"
      },
      "cell_type": "markdown",
      "source": [
        "### Step 22. Save the summary statistics into their own dataset."
      ]
    },
    {
      "metadata": {
        "id": "Ga2udhwYLzPG",
        "colab_type": "code",
        "colab": {}
      },
      "cell_type": "code",
      "source": [
        "dpl_summary = drivers_pl.describe()\n"
      ],
      "execution_count": 0,
      "outputs": []
    },
    {
      "metadata": {
        "id": "AYvgtZT-L9eG",
        "colab_type": "code",
        "colab": {
          "base_uri": "https://localhost:8080/",
          "height": 297
        },
        "outputId": "0b380ed1-b78a-41b6-8092-78fd0a95a5a5"
      },
      "cell_type": "code",
      "source": [
        "dpl_summary"
      ],
      "execution_count": 39,
      "outputs": [
        {
          "output_type": "execute_result",
          "data": {
            "text/html": [
              "<div>\n",
              "<style scoped>\n",
              "    .dataframe tbody tr th:only-of-type {\n",
              "        vertical-align: middle;\n",
              "    }\n",
              "\n",
              "    .dataframe tbody tr th {\n",
              "        vertical-align: top;\n",
              "    }\n",
              "\n",
              "    .dataframe thead th {\n",
              "        text-align: right;\n",
              "    }\n",
              "</style>\n",
              "<table border=\"1\" class=\"dataframe\">\n",
              "  <thead>\n",
              "    <tr style=\"text-align: right;\">\n",
              "      <th></th>\n",
              "      <th>premiums</th>\n",
              "      <th>losses</th>\n",
              "      <th>ratio</th>\n",
              "    </tr>\n",
              "  </thead>\n",
              "  <tbody>\n",
              "    <tr>\n",
              "      <th>count</th>\n",
              "      <td>51.000000</td>\n",
              "      <td>51.000000</td>\n",
              "      <td>51.000000</td>\n",
              "    </tr>\n",
              "    <tr>\n",
              "      <th>mean</th>\n",
              "      <td>886.957647</td>\n",
              "      <td>134.493137</td>\n",
              "      <td>0.153809</td>\n",
              "    </tr>\n",
              "    <tr>\n",
              "      <th>std</th>\n",
              "      <td>178.296285</td>\n",
              "      <td>24.835922</td>\n",
              "      <td>0.024613</td>\n",
              "    </tr>\n",
              "    <tr>\n",
              "      <th>min</th>\n",
              "      <td>641.960000</td>\n",
              "      <td>82.750000</td>\n",
              "      <td>0.104324</td>\n",
              "    </tr>\n",
              "    <tr>\n",
              "      <th>25%</th>\n",
              "      <td>768.430000</td>\n",
              "      <td>114.645000</td>\n",
              "      <td>0.134411</td>\n",
              "    </tr>\n",
              "    <tr>\n",
              "      <th>50%</th>\n",
              "      <td>858.970000</td>\n",
              "      <td>136.050000</td>\n",
              "      <td>0.154258</td>\n",
              "    </tr>\n",
              "    <tr>\n",
              "      <th>75%</th>\n",
              "      <td>1007.945000</td>\n",
              "      <td>151.870000</td>\n",
              "      <td>0.171844</td>\n",
              "    </tr>\n",
              "    <tr>\n",
              "      <th>max</th>\n",
              "      <td>1301.520000</td>\n",
              "      <td>194.780000</td>\n",
              "      <td>0.202902</td>\n",
              "    </tr>\n",
              "  </tbody>\n",
              "</table>\n",
              "</div>"
            ],
            "text/plain": [
              "          premiums      losses      ratio\n",
              "count    51.000000   51.000000  51.000000\n",
              "mean    886.957647  134.493137   0.153809\n",
              "std     178.296285   24.835922   0.024613\n",
              "min     641.960000   82.750000   0.104324\n",
              "25%     768.430000  114.645000   0.134411\n",
              "50%     858.970000  136.050000   0.154258\n",
              "75%    1007.945000  151.870000   0.171844\n",
              "max    1301.520000  194.780000   0.202902"
            ]
          },
          "metadata": {
            "tags": []
          },
          "execution_count": 39
        }
      ]
    },
    {
      "metadata": {
        "id": "n0_8fFARMoIY",
        "colab_type": "text"
      },
      "cell_type": "markdown",
      "source": [
        "### Step 23. Access the mean of the premiums column using .loc or .iloc"
      ]
    },
    {
      "metadata": {
        "id": "mjwB0h7UMt-O",
        "colab_type": "code",
        "colab": {
          "base_uri": "https://localhost:8080/",
          "height": 34
        },
        "outputId": "d8f985bd-bc88-4195-fe10-0f41b307a5eb"
      },
      "cell_type": "code",
      "source": [
        "dpl_summary.loc['mean', 'premiums']"
      ],
      "execution_count": 40,
      "outputs": [
        {
          "output_type": "execute_result",
          "data": {
            "text/plain": [
              "886.9576470588232"
            ]
          },
          "metadata": {
            "tags": []
          },
          "execution_count": 40
        }
      ]
    },
    {
      "metadata": {
        "id": "jf7CWd6sNRoY",
        "colab_type": "code",
        "colab": {
          "base_uri": "https://localhost:8080/",
          "height": 34
        },
        "outputId": "e699494d-9254-49f9-ba00-ed0c32ff8e9f"
      },
      "cell_type": "code",
      "source": [
        "dpl_summary.iloc[1,0]"
      ],
      "execution_count": 41,
      "outputs": [
        {
          "output_type": "execute_result",
          "data": {
            "text/plain": [
              "886.9576470588232"
            ]
          },
          "metadata": {
            "tags": []
          },
          "execution_count": 41
        }
      ]
    },
    {
      "metadata": {
        "id": "vTPuiax5P6tR",
        "colab_type": "text"
      },
      "cell_type": "markdown",
      "source": [
        "### Step 24. Transpose columns and rows in dpl_summary using transpose()"
      ]
    },
    {
      "metadata": {
        "id": "Cx48c3PyP_1r",
        "colab_type": "code",
        "colab": {
          "base_uri": "https://localhost:8080/",
          "height": 142
        },
        "outputId": "90ef5d37-69c6-473b-e201-cce4df4ca292"
      },
      "cell_type": "code",
      "source": [
        "dpl_summary.transpose()"
      ],
      "execution_count": 42,
      "outputs": [
        {
          "output_type": "execute_result",
          "data": {
            "text/html": [
              "<div>\n",
              "<style scoped>\n",
              "    .dataframe tbody tr th:only-of-type {\n",
              "        vertical-align: middle;\n",
              "    }\n",
              "\n",
              "    .dataframe tbody tr th {\n",
              "        vertical-align: top;\n",
              "    }\n",
              "\n",
              "    .dataframe thead th {\n",
              "        text-align: right;\n",
              "    }\n",
              "</style>\n",
              "<table border=\"1\" class=\"dataframe\">\n",
              "  <thead>\n",
              "    <tr style=\"text-align: right;\">\n",
              "      <th></th>\n",
              "      <th>count</th>\n",
              "      <th>mean</th>\n",
              "      <th>std</th>\n",
              "      <th>min</th>\n",
              "      <th>25%</th>\n",
              "      <th>50%</th>\n",
              "      <th>75%</th>\n",
              "      <th>max</th>\n",
              "    </tr>\n",
              "  </thead>\n",
              "  <tbody>\n",
              "    <tr>\n",
              "      <th>premiums</th>\n",
              "      <td>51.0</td>\n",
              "      <td>886.957647</td>\n",
              "      <td>178.296285</td>\n",
              "      <td>641.960000</td>\n",
              "      <td>768.430000</td>\n",
              "      <td>858.970000</td>\n",
              "      <td>1007.945000</td>\n",
              "      <td>1301.520000</td>\n",
              "    </tr>\n",
              "    <tr>\n",
              "      <th>losses</th>\n",
              "      <td>51.0</td>\n",
              "      <td>134.493137</td>\n",
              "      <td>24.835922</td>\n",
              "      <td>82.750000</td>\n",
              "      <td>114.645000</td>\n",
              "      <td>136.050000</td>\n",
              "      <td>151.870000</td>\n",
              "      <td>194.780000</td>\n",
              "    </tr>\n",
              "    <tr>\n",
              "      <th>ratio</th>\n",
              "      <td>51.0</td>\n",
              "      <td>0.153809</td>\n",
              "      <td>0.024613</td>\n",
              "      <td>0.104324</td>\n",
              "      <td>0.134411</td>\n",
              "      <td>0.154258</td>\n",
              "      <td>0.171844</td>\n",
              "      <td>0.202902</td>\n",
              "    </tr>\n",
              "  </tbody>\n",
              "</table>\n",
              "</div>"
            ],
            "text/plain": [
              "          count        mean         std         min         25%         50%  \\\n",
              "premiums   51.0  886.957647  178.296285  641.960000  768.430000  858.970000   \n",
              "losses     51.0  134.493137   24.835922   82.750000  114.645000  136.050000   \n",
              "ratio      51.0    0.153809    0.024613    0.104324    0.134411    0.154258   \n",
              "\n",
              "                  75%          max  \n",
              "premiums  1007.945000  1301.520000  \n",
              "losses     151.870000   194.780000  \n",
              "ratio        0.171844     0.202902  "
            ]
          },
          "metadata": {
            "tags": []
          },
          "execution_count": 42
        }
      ]
    },
    {
      "metadata": {
        "id": "2C0yTesFO95F",
        "colab_type": "text"
      },
      "cell_type": "markdown",
      "source": [
        "### Step 25. Practice. Read in a new dataset from the url provided using the read_csv() command. Name the dataset 'exdat'."
      ]
    },
    {
      "metadata": {
        "id": "MmGEAI8mPEUK",
        "colab_type": "code",
        "colab": {
          "base_uri": "https://localhost:8080/",
          "height": 204
        },
        "outputId": "13e4d860-172e-46db-d2cf-1bdef817c79e"
      },
      "cell_type": "code",
      "source": [
        "url = \"https://raw.githubusercontent.com/alblaine/exchange-rates/master/data/annual.csv\"\n",
        "\n",
        "exdat = pd.read_csv(url) \n",
        "\n",
        "exdat.head()"
      ],
      "execution_count": 44,
      "outputs": [
        {
          "output_type": "execute_result",
          "data": {
            "text/html": [
              "<div>\n",
              "<style scoped>\n",
              "    .dataframe tbody tr th:only-of-type {\n",
              "        vertical-align: middle;\n",
              "    }\n",
              "\n",
              "    .dataframe tbody tr th {\n",
              "        vertical-align: top;\n",
              "    }\n",
              "\n",
              "    .dataframe thead th {\n",
              "        text-align: right;\n",
              "    }\n",
              "</style>\n",
              "<table border=\"1\" class=\"dataframe\">\n",
              "  <thead>\n",
              "    <tr style=\"text-align: right;\">\n",
              "      <th></th>\n",
              "      <th>Date</th>\n",
              "      <th>Country</th>\n",
              "      <th>Exchange rate</th>\n",
              "    </tr>\n",
              "  </thead>\n",
              "  <tbody>\n",
              "    <tr>\n",
              "      <th>0</th>\n",
              "      <td>1971-01-01</td>\n",
              "      <td>Australia</td>\n",
              "      <td>0.880282</td>\n",
              "    </tr>\n",
              "    <tr>\n",
              "      <th>1</th>\n",
              "      <td>1972-01-01</td>\n",
              "      <td>Australia</td>\n",
              "      <td>0.838715</td>\n",
              "    </tr>\n",
              "    <tr>\n",
              "      <th>2</th>\n",
              "      <td>1973-01-01</td>\n",
              "      <td>Australia</td>\n",
              "      <td>0.704722</td>\n",
              "    </tr>\n",
              "    <tr>\n",
              "      <th>3</th>\n",
              "      <td>1974-01-01</td>\n",
              "      <td>Australia</td>\n",
              "      <td>0.694975</td>\n",
              "    </tr>\n",
              "    <tr>\n",
              "      <th>4</th>\n",
              "      <td>1975-01-01</td>\n",
              "      <td>Australia</td>\n",
              "      <td>0.764701</td>\n",
              "    </tr>\n",
              "  </tbody>\n",
              "</table>\n",
              "</div>"
            ],
            "text/plain": [
              "         Date    Country  Exchange rate\n",
              "0  1971-01-01  Australia       0.880282\n",
              "1  1972-01-01  Australia       0.838715\n",
              "2  1973-01-01  Australia       0.704722\n",
              "3  1974-01-01  Australia       0.694975\n",
              "4  1975-01-01  Australia       0.764701"
            ]
          },
          "metadata": {
            "tags": []
          },
          "execution_count": 44
        }
      ]
    },
    {
      "metadata": {
        "id": "85wAbYH2PJg5",
        "colab_type": "text"
      },
      "cell_type": "markdown",
      "source": [
        "### Step 26. Create a year column based on the Date column (ex: 1971)"
      ]
    },
    {
      "metadata": {
        "id": "c_WJGcaencqB",
        "colab_type": "text"
      },
      "cell_type": "markdown",
      "source": [
        "Note that **.assign** creates a new column, **pd.DatetimeIndex()** converts the Date column into a Date object in Python, and **.year** extracts the year value."
      ]
    },
    {
      "metadata": {
        "id": "5tZBCndpPZCX",
        "colab_type": "code",
        "colab": {}
      },
      "cell_type": "code",
      "source": [
        "exdat = exdat.assign(year=pd.DatetimeIndex(exdat['Date']).year)  # see the Pandas docs here: https://pandas.pydata.org/pandas-docs/stable/generated/pandas.DatetimeIndex.html\n"
      ],
      "execution_count": 0,
      "outputs": []
    },
    {
      "metadata": {
        "id": "SdaKA6J_TogF",
        "colab_type": "text"
      },
      "cell_type": "markdown",
      "source": [
        "### Step. 27. Delete the Date column using drop()."
      ]
    },
    {
      "metadata": {
        "id": "WMyt9mZyT-h6",
        "colab_type": "code",
        "colab": {
          "base_uri": "https://localhost:8080/",
          "height": 204
        },
        "outputId": "045f7f2c-5c65-4e2e-adda-53166c04fb5c"
      },
      "cell_type": "code",
      "source": [
        "exdat = exdat.drop(columns=[ 'Date'   ])\n",
        "exdat.head()"
      ],
      "execution_count": 47,
      "outputs": [
        {
          "output_type": "execute_result",
          "data": {
            "text/html": [
              "<div>\n",
              "<style scoped>\n",
              "    .dataframe tbody tr th:only-of-type {\n",
              "        vertical-align: middle;\n",
              "    }\n",
              "\n",
              "    .dataframe tbody tr th {\n",
              "        vertical-align: top;\n",
              "    }\n",
              "\n",
              "    .dataframe thead th {\n",
              "        text-align: right;\n",
              "    }\n",
              "</style>\n",
              "<table border=\"1\" class=\"dataframe\">\n",
              "  <thead>\n",
              "    <tr style=\"text-align: right;\">\n",
              "      <th></th>\n",
              "      <th>Country</th>\n",
              "      <th>Exchange rate</th>\n",
              "      <th>year</th>\n",
              "    </tr>\n",
              "  </thead>\n",
              "  <tbody>\n",
              "    <tr>\n",
              "      <th>0</th>\n",
              "      <td>Australia</td>\n",
              "      <td>0.880282</td>\n",
              "      <td>1971</td>\n",
              "    </tr>\n",
              "    <tr>\n",
              "      <th>1</th>\n",
              "      <td>Australia</td>\n",
              "      <td>0.838715</td>\n",
              "      <td>1972</td>\n",
              "    </tr>\n",
              "    <tr>\n",
              "      <th>2</th>\n",
              "      <td>Australia</td>\n",
              "      <td>0.704722</td>\n",
              "      <td>1973</td>\n",
              "    </tr>\n",
              "    <tr>\n",
              "      <th>3</th>\n",
              "      <td>Australia</td>\n",
              "      <td>0.694975</td>\n",
              "      <td>1974</td>\n",
              "    </tr>\n",
              "    <tr>\n",
              "      <th>4</th>\n",
              "      <td>Australia</td>\n",
              "      <td>0.764701</td>\n",
              "      <td>1975</td>\n",
              "    </tr>\n",
              "  </tbody>\n",
              "</table>\n",
              "</div>"
            ],
            "text/plain": [
              "     Country  Exchange rate  year\n",
              "0  Australia       0.880282  1971\n",
              "1  Australia       0.838715  1972\n",
              "2  Australia       0.704722  1973\n",
              "3  Australia       0.694975  1974\n",
              "4  Australia       0.764701  1975"
            ]
          },
          "metadata": {
            "tags": []
          },
          "execution_count": 47
        }
      ]
    },
    {
      "metadata": {
        "id": "oLJ7BEWGSk-_",
        "colab_type": "text"
      },
      "cell_type": "markdown",
      "source": [
        "### Step 28. Practice. Filter the data to only include China and Mexico using the query() function. See Step 6 for an example."
      ]
    },
    {
      "metadata": {
        "id": "LtEbYO0MS2TF",
        "colab_type": "code",
        "colab": {}
      },
      "cell_type": "code",
      "source": [
        "exdat_filtered = exdat.query('Country==\"China\" or Country==\"Mexico\"')"
      ],
      "execution_count": 0,
      "outputs": []
    },
    {
      "metadata": {
        "colab_type": "text",
        "id": "iyLVvmVcZ-Nt"
      },
      "cell_type": "markdown",
      "source": [
        "### Step 29. Practice. Rename the \"Exchange rate\" column to \"rate\". We shouldn't have spaces in our variable names. See Step 4 for an example."
      ]
    },
    {
      "metadata": {
        "colab_type": "code",
        "id": "8LEaVe1fZ9sA",
        "colab": {}
      },
      "cell_type": "code",
      "source": [
        "exdat_filtered = exdat_filtered.rename(columns={'Exchange rate':'rate'})"
      ],
      "execution_count": 0,
      "outputs": []
    },
    {
      "metadata": {
        "id": "Y1Ue70FSS45k",
        "colab_type": "text"
      },
      "cell_type": "markdown",
      "source": [
        "### Step 30. Practice. Create a line graph showing how the exchange rates have changed over time for China and Mexico. See Step 9 for an example.\n",
        "Note: **year** should be the variable on the X axis and **rate** should be the variable on the Y axis. Both lines should be in the same graph.\n",
        "Hint: use .group_by and .plot functions"
      ]
    },
    {
      "metadata": {
        "id": "h2e76S9RTCHM",
        "colab_type": "code",
        "colab": {
          "base_uri": "https://localhost:8080/",
          "height": 429
        },
        "outputId": "4fc42b17-5ed1-4652-9e6f-8f7135ec2506"
      },
      "cell_type": "code",
      "source": [
        "fig, ax=plt.subplots()\n",
        "exdat_filtered.groupby('Country').plot(x='year',y='rate',ax=ax,legend=False)\n",
        "\n"
      ],
      "execution_count": 55,
      "outputs": [
        {
          "output_type": "execute_result",
          "data": {
            "text/plain": [
              "Country\n",
              "China     AxesSubplot(0.125,0.125;0.775x0.755)\n",
              "Mexico    AxesSubplot(0.125,0.125;0.775x0.755)\n",
              "dtype: object"
            ]
          },
          "metadata": {
            "tags": []
          },
          "execution_count": 55
        },
        {
          "output_type": "display_data",
          "data": {
            "image/png": "[encoded data removed]",
            "text/plain": [
              "<Figure size 576x396 with 1 Axes>"
            ]
          },
          "metadata": {
            "tags": []
          }
        }
      ]
    }
  ]
}