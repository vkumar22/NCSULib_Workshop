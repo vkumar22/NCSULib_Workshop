{
  "nbformat": 4,
  "nbformat_minor": 0,
  "metadata": {
    "colab": {
      "name": "Copy of Data_Cleaning_with_Python_Practice.ipynb",
      "version": "0.3.2",
      "provenance": [],
      "collapsed_sections": [],
      "include_colab_link": true
    },
    "kernelspec": {
      "name": "python3",
      "display_name": "Python 3"
    }
  },
  "cells": [
    {
      "cell_type": "markdown",
      "metadata": {
        "id": "view-in-github",
        "colab_type": "text"
      },
      "source": [
        "<a href=\"https://colab.research.google.com/github/vkumar22/NCSULib_Workshop/blob/master/Copy_of_Data_Cleaning_with_Python_Practice.ipynb\" target=\"_parent\"><img src=\"https://colab.research.google.com/assets/colab-badge.svg\" alt=\"Open In Colab\"/></a>"
      ]
    },
    {
      "metadata": {
        "id": "iEvI-KpARZkS",
        "colab_type": "text"
      },
      "cell_type": "markdown",
      "source": [
        "# **Data Cleaning with Python**  \n",
        "An NCSU Libraries Workshop  \n",
        "Instructor: Alison Blaine, ablaine@ncsu.edu\n",
        "\n"
      ]
    },
    {
      "metadata": {
        "id": "iNIMxnrkxk3q",
        "colab_type": "text"
      },
      "cell_type": "markdown",
      "source": [
        "### Welcome! In this workshop, we'll learn how to do the following:\n",
        "* load in python libraries for data cleaning (pandas) and graphing (matplotlib)\n",
        "* read csv files into Python from an internet source\n",
        "* examine the first and last few rows of the data\n",
        "* delete duplicates\n",
        "* filter the data to create subsets\n",
        "* sort the data\n",
        "* group the data for plotting\n",
        "* drop variables from the dataset\n",
        "* create new variables\n",
        "* generate and save summary statistics for a dataset"
      ]
    },
    {
      "metadata": {
        "id": "oAgjwPfORxoY",
        "colab_type": "text"
      },
      "cell_type": "markdown",
      "source": [
        "### Step 1. We'll start by loading in the required Python libraries."
      ]
    },
    {
      "metadata": {
        "id": "EhhU85l3RJ8k",
        "colab_type": "code",
        "colab": {}
      },
      "cell_type": "code",
      "source": [
        "import pandas as pd\n",
        "import matplotlib.pyplot as plt"
      ],
      "execution_count": 0,
      "outputs": []
    },
    {
      "metadata": {
        "id": "V95BKFBuSpzr",
        "colab_type": "text"
      },
      "cell_type": "markdown",
      "source": [
        "### Step 2. Next, we'll load in a dataset from the internet. This dataset is a CSV (comma separated values) file."
      ]
    },
    {
      "metadata": {
        "id": "pj7DcrfHSpWE",
        "colab_type": "code",
        "colab": {}
      },
      "cell_type": "code",
      "source": [
        "url=\"https://raw.githubusercontent.com/alblaine/data-USstates/master/state-population.csv\"\n",
        "\n",
        "dat=pd.read_csv(url)"
      ],
      "execution_count": 0,
      "outputs": []
    },
    {
      "metadata": {
        "id": "8GS3SOCWatdL",
        "colab_type": "text"
      },
      "cell_type": "markdown",
      "source": [
        "### Step 3. Type dat.head() to see the first 5 rows of the dataset. Then click the run button."
      ]
    },
    {
      "metadata": {
        "id": "FEEgaJYSatC5",
        "colab_type": "code",
        "colab": {
          "base_uri": "https://localhost:8080/",
          "height": 204
        },
        "outputId": "66c119ab-36ac-4b0a-8d6c-c34669c02908"
      },
      "cell_type": "code",
      "source": [
        "dat.head()"
      ],
      "execution_count": 4,
      "outputs": [
        {
          "output_type": "execute_result",
          "data": {
            "text/html": [
              "<div>\n",
              "<style scoped>\n",
              "    .dataframe tbody tr th:only-of-type {\n",
              "        vertical-align: middle;\n",
              "    }\n",
              "\n",
              "    .dataframe tbody tr th {\n",
              "        vertical-align: top;\n",
              "    }\n",
              "\n",
              "    .dataframe thead th {\n",
              "        text-align: right;\n",
              "    }\n",
              "</style>\n",
              "<table border=\"1\" class=\"dataframe\">\n",
              "  <thead>\n",
              "    <tr style=\"text-align: right;\">\n",
              "      <th></th>\n",
              "      <th>state/region</th>\n",
              "      <th>ages</th>\n",
              "      <th>year</th>\n",
              "      <th>population</th>\n",
              "    </tr>\n",
              "  </thead>\n",
              "  <tbody>\n",
              "    <tr>\n",
              "      <th>0</th>\n",
              "      <td>AL</td>\n",
              "      <td>under18</td>\n",
              "      <td>2012</td>\n",
              "      <td>1117489.0</td>\n",
              "    </tr>\n",
              "    <tr>\n",
              "      <th>1</th>\n",
              "      <td>AL</td>\n",
              "      <td>total</td>\n",
              "      <td>2012</td>\n",
              "      <td>4817528.0</td>\n",
              "    </tr>\n",
              "    <tr>\n",
              "      <th>2</th>\n",
              "      <td>AL</td>\n",
              "      <td>under18</td>\n",
              "      <td>2010</td>\n",
              "      <td>1130966.0</td>\n",
              "    </tr>\n",
              "    <tr>\n",
              "      <th>3</th>\n",
              "      <td>AL</td>\n",
              "      <td>total</td>\n",
              "      <td>2010</td>\n",
              "      <td>4785570.0</td>\n",
              "    </tr>\n",
              "    <tr>\n",
              "      <th>4</th>\n",
              "      <td>AL</td>\n",
              "      <td>under18</td>\n",
              "      <td>2011</td>\n",
              "      <td>1125763.0</td>\n",
              "    </tr>\n",
              "  </tbody>\n",
              "</table>\n",
              "</div>"
            ],
            "text/plain": [
              "  state/region     ages  year  population\n",
              "0           AL  under18  2012   1117489.0\n",
              "1           AL    total  2012   4817528.0\n",
              "2           AL  under18  2010   1130966.0\n",
              "3           AL    total  2010   4785570.0\n",
              "4           AL  under18  2011   1125763.0"
            ]
          },
          "metadata": {
            "tags": []
          },
          "execution_count": 4
        }
      ]
    },
    {
      "metadata": {
        "id": "5e847Ddpnzom",
        "colab_type": "text"
      },
      "cell_type": "markdown",
      "source": [
        "### Step 4. Rename the state/region column to state_region using rename()."
      ]
    },
    {
      "metadata": {
        "id": "ZyLmH3ayn7LS",
        "colab_type": "code",
        "colab": {}
      },
      "cell_type": "code",
      "source": [
        "dat.rename(columns={'state/region':'state_region'},inplace=True)\n",
        "dat"
      ],
      "execution_count": 0,
      "outputs": []
    },
    {
      "metadata": {
        "id": "vmDZaylQ0RcK",
        "colab_type": "text"
      },
      "cell_type": "markdown",
      "source": [
        "### Step 5. Print out the unique values in the state_region column using drop_duplicates()."
      ]
    },
    {
      "metadata": {
        "id": "WO02Y2G9z56_",
        "colab_type": "code",
        "colab": {}
      },
      "cell_type": "code",
      "source": [
        "dat.state_region.drop_duplicates()"
      ],
      "execution_count": 0,
      "outputs": []
    },
    {
      "metadata": {
        "id": "Vsd9kg3y0YU_",
        "colab_type": "text"
      },
      "cell_type": "markdown",
      "source": [
        "### Step 6. Filter out all rows except for NC using query()."
      ]
    },
    {
      "metadata": {
        "id": "5qQWifgv0YCU",
        "colab_type": "code",
        "colab": {}
      },
      "cell_type": "code",
      "source": [
        "dat_filtered ="
      ],
      "execution_count": 0,
      "outputs": []
    },
    {
      "metadata": {
        "id": "38EaStPQ9RSa",
        "colab_type": "text"
      },
      "cell_type": "markdown",
      "source": [
        "### Step 7. Order the columns by year using sort_values()."
      ]
    },
    {
      "metadata": {
        "id": "mG4vCaj39XI4",
        "colab_type": "code",
        "colab": {}
      },
      "cell_type": "code",
      "source": [
        "dat_sorted =\n"
      ],
      "execution_count": 0,
      "outputs": []
    },
    {
      "metadata": {
        "id": "sMxZX73-tQyj",
        "colab_type": "text"
      },
      "cell_type": "markdown",
      "source": [
        "### Step 8. Try to make a basic line plot showing year (X) and population (Y) using the plot() function from matplotlib."
      ]
    },
    {
      "metadata": {
        "id": "ElfVJX9ib6Tt",
        "colab_type": "text"
      },
      "cell_type": "markdown",
      "source": [
        "First, let's choose a chart theme."
      ]
    },
    {
      "metadata": {
        "id": "1ymqX5Sl_Eeu",
        "colab_type": "code",
        "outputId": "eb6831ca-4678-42b1-e3dd-350ece31893f",
        "colab": {
          "base_uri": "https://localhost:8080/",
          "height": 54
        }
      },
      "cell_type": "code",
      "source": [
        "print(plt.style.available)  # note: this command lists all the themes available"
      ],
      "execution_count": 0,
      "outputs": [
        {
          "output_type": "stream",
          "text": [
            "['seaborn-darkgrid', 'ggplot', 'grayscale', 'seaborn-deep', 'seaborn-dark', 'fast', 'bmh', 'seaborn-poster', 'Solarize_Light2', 'classic', 'seaborn-white', 'seaborn-dark-palette', '_classic_test', 'seaborn-muted', 'seaborn-talk', 'seaborn-whitegrid', 'seaborn-bright', 'dark_background', 'seaborn-notebook', 'seaborn', 'seaborn-pastel', 'fivethirtyeight', 'seaborn-paper', 'seaborn-ticks', 'seaborn-colorblind']\n"
          ],
          "name": "stdout"
        }
      ]
    },
    {
      "metadata": {
        "id": "IT7dvNBLl10X",
        "colab_type": "code",
        "colab": {}
      },
      "cell_type": "code",
      "source": [
        "plt.style.use(   ) # note: this selects a plot theme and all future plots will have this theme\n",
        "\n",
        "\n",
        "plt.plot(           ) # note: the plt at the beginning tells python that the plot function comes from matplotlib"
      ],
      "execution_count": 0,
      "outputs": []
    },
    {
      "metadata": {
        "id": "zRbeBpwOcB83",
        "colab_type": "text"
      },
      "cell_type": "markdown",
      "source": [
        "This didn't look good because Python thought we needed to connect all of the data points with one line. But we want two lines: one for under18, and one for total."
      ]
    },
    {
      "metadata": {
        "id": "tTFcC23PcPUL",
        "colab_type": "code",
        "colab": {}
      },
      "cell_type": "code",
      "source": [
        "dat_sorted.ages      "
      ],
      "execution_count": 0,
      "outputs": []
    },
    {
      "metadata": {
        "id": "eFe7kOG-w_QW",
        "colab_type": "text"
      },
      "cell_type": "markdown",
      "source": [
        "### Step 9. Let's try grouping the data on the **ages** variable."
      ]
    },
    {
      "metadata": {
        "id": "fWp9sIsgw2h9",
        "colab_type": "code",
        "colab": {}
      },
      "cell_type": "code",
      "source": [
        "dat_sorted.groupby(      ).plot(x=     , y=    )"
      ],
      "execution_count": 0,
      "outputs": []
    },
    {
      "metadata": {
        "id": "bd9jun-P_Hs4",
        "colab_type": "text"
      },
      "cell_type": "markdown",
      "source": [
        "### Step 10. To get the lines on the same graph, we need to make use of the subplots() function from matplotlib. This just tells python to draw the lines on the same chart.\n"
      ]
    },
    {
      "metadata": {
        "id": "FkI0PmBUo6Ho",
        "colab_type": "code",
        "colab": {}
      },
      "cell_type": "code",
      "source": [
        "fig, ax = plt.subplots()\n",
        "\n",
        "dat_sorted.groupby(   ).plot(x=    , y=    , ax=    , legend=    )"
      ],
      "execution_count": 0,
      "outputs": []
    },
    {
      "metadata": {
        "id": "X6esQSS7FgqU",
        "colab_type": "text"
      },
      "cell_type": "markdown",
      "source": [
        "### Step 11. Pandas has a pivot table feature that will allow us to separate the ages column into two columns, one for each age category (under18 and total). "
      ]
    },
    {
      "metadata": {
        "id": "a9tVtFsqBgG4",
        "colab_type": "code",
        "colab": {}
      },
      "cell_type": "code",
      "source": [
        "dat_pivot = pd.pivot_table(         , index=[       ], values=[       ], columns=[    ])   # see the documentation here: https://pandas.pydata.org/pandas-docs/stable/generated/pandas.pivot_table.html\n",
        "\n",
        "dat_pivot.head()"
      ],
      "execution_count": 0,
      "outputs": []
    },
    {
      "metadata": {
        "id": "rYPUbN6oUUST",
        "colab_type": "text"
      },
      "cell_type": "markdown",
      "source": [
        "### Step 12. Now that we have pivoted the data, we have to figure out how to access the data in each column. "
      ]
    },
    {
      "metadata": {
        "id": "5J155NVPuQ6D",
        "colab_type": "text"
      },
      "cell_type": "markdown",
      "source": [
        "Type **dat_pivot.year** and run the code. Note there is an error. That is because year is an index value. Index values can't be called like regular variables.\n",
        "\n"
      ]
    },
    {
      "metadata": {
        "id": "2K-qi96NUTVA",
        "colab_type": "code",
        "colab": {}
      },
      "cell_type": "code",
      "source": [
        ""
      ],
      "execution_count": 0,
      "outputs": []
    },
    {
      "metadata": {
        "id": "r7bvz_kjuVDk",
        "colab_type": "text"
      },
      "cell_type": "markdown",
      "source": [
        "Type **dat_pivot.reset_index()** to turn index values back into columns. This will make year into a regular column again.\n"
      ]
    },
    {
      "metadata": {
        "id": "kxqJwDtAWLWl",
        "colab_type": "code",
        "colab": {}
      },
      "cell_type": "code",
      "source": [
        "dat_pivot = \n",
        "\n"
      ],
      "execution_count": 0,
      "outputs": []
    },
    {
      "metadata": {
        "id": "3jTulT08uZDI",
        "colab_type": "text"
      },
      "cell_type": "markdown",
      "source": [
        "Now type **dat_pivot.year** and run the code. This should work."
      ]
    },
    {
      "metadata": {
        "id": "b4EUqmCOWVpA",
        "colab_type": "code",
        "colab": {}
      },
      "cell_type": "code",
      "source": [
        "\n",
        "\n"
      ],
      "execution_count": 0,
      "outputs": []
    },
    {
      "metadata": {
        "id": "jwXDpIv2ucpZ",
        "colab_type": "text"
      },
      "cell_type": "markdown",
      "source": [
        "Type **dat_pivot.total** and run the code. Notice there is an error. That's because the total variable is nested under the population field.\n"
      ]
    },
    {
      "metadata": {
        "id": "RNI5LGIlUf9K",
        "colab_type": "code",
        "colab": {}
      },
      "cell_type": "code",
      "source": [
        ""
      ],
      "execution_count": 0,
      "outputs": []
    },
    {
      "metadata": {
        "id": "aNR9OpvsufSl",
        "colab_type": "text"
      },
      "cell_type": "markdown",
      "source": [
        "Type **dat_pivot.population.total** and run the code. Why does this work?"
      ]
    },
    {
      "metadata": {
        "id": "-Qy6i2piUjTF",
        "colab_type": "code",
        "colab": {}
      },
      "cell_type": "code",
      "source": [
        "\n"
      ],
      "execution_count": 0,
      "outputs": []
    },
    {
      "metadata": {
        "id": "u9Dbu4xeu1mM",
        "colab_type": "text"
      },
      "cell_type": "markdown",
      "source": [
        "### Step 13. Here's another way to make the graph that we made earlier in step 10 using the pivoted data. Since we have two separate columns for ages (under18 and total), we can create the following line graphs: \n",
        "* **X1=year, Y1=total**\n",
        "* **X2=year, Y2=under18**\n",
        "\n",
        "---\n",
        "\n"
      ]
    },
    {
      "metadata": {
        "id": "T6WvuxSBHIDb",
        "colab_type": "code",
        "colab": {}
      },
      "cell_type": "code",
      "source": [
        "plt.plot(       )\n",
        "plt.plot(       )"
      ],
      "execution_count": 0,
      "outputs": []
    },
    {
      "metadata": {
        "id": "qEsxpszr5Pu_",
        "colab_type": "text"
      },
      "cell_type": "markdown",
      "source": [
        "### Step 14. Read in a new dataset using pd.read_csv()."
      ]
    },
    {
      "metadata": {
        "id": "aFAfo6Ny5UDQ",
        "colab_type": "code",
        "colab": {}
      },
      "cell_type": "code",
      "source": [
        "url=\"https://raw.githubusercontent.com/alblaine/data-1/master/bad-drivers/bad-drivers.csv\"\n",
        "\n",
        "drivers = "
      ],
      "execution_count": 0,
      "outputs": []
    },
    {
      "metadata": {
        "id": "hyVArg186cMj",
        "colab_type": "text"
      },
      "cell_type": "markdown",
      "source": [
        "### Step 15. Look at the data using the head() command."
      ]
    },
    {
      "metadata": {
        "id": "V4Gev5U75i2Z",
        "colab_type": "code",
        "colab": {}
      },
      "cell_type": "code",
      "source": [
        ""
      ],
      "execution_count": 0,
      "outputs": []
    },
    {
      "metadata": {
        "id": "DCL97xg-6lBX",
        "colab_type": "text"
      },
      "cell_type": "markdown",
      "source": [
        "### Step 16. Look at the column headers for this dataset using .columns"
      ]
    },
    {
      "metadata": {
        "id": "Kw69T_i76tGi",
        "colab_type": "code",
        "colab": {}
      },
      "cell_type": "code",
      "source": [
        ""
      ],
      "execution_count": 0,
      "outputs": []
    },
    {
      "metadata": {
        "id": "wzG38u_e6t7I",
        "colab_type": "text"
      },
      "cell_type": "markdown",
      "source": [
        "### Step 17. Rename the columns to shorter names using rename()"
      ]
    },
    {
      "metadata": {
        "id": "ekZpsOo58YD6",
        "colab_type": "code",
        "colab": {}
      },
      "cell_type": "code",
      "source": [
        "drivers_renamed = drivers.rename(columns={'Number of drivers involved in fatal collisions per billion miles':'num_per_billion',\n",
        "       'Percentage Of Drivers Involved In Fatal Collisions Who Were Speeding':'pct_speeding',\n",
        "       'Percentage Of Drivers Involved In Fatal Collisions Who Were Alcohol-Impaired':'pct_alcohol_impaired',\n",
        "       'Percentage Of Drivers Involved In Fatal Collisions Who Were Not Distracted':'pct_not_distracted',\n",
        "       'Percentage Of Drivers Involved In Fatal Collisions Who Had Not Been Involved In Any Previous Accidents':'pct_no_accidents',\n",
        "       'Car Insurance Premiums ($)':'premiums',\n",
        "       'Losses incurred by insurance companies for collisions per insured driver ($)':'losses'})\n",
        "                       \n",
        "                                 "
      ],
      "execution_count": 0,
      "outputs": []
    },
    {
      "metadata": {
        "id": "i73-TA7q-4ej",
        "colab_type": "code",
        "colab": {}
      },
      "cell_type": "code",
      "source": [
        "drivers_renamed.head()\n"
      ],
      "execution_count": 0,
      "outputs": []
    },
    {
      "metadata": {
        "id": "Ojv5Xp-8D5-5",
        "colab_type": "text"
      },
      "cell_type": "markdown",
      "source": [
        "### Step 18. Create a new dataset keeping only the state, premiums, and losses columns."
      ]
    },
    {
      "metadata": {
        "id": "1zARLm8pC9kB",
        "colab_type": "code",
        "colab": {}
      },
      "cell_type": "code",
      "source": [
        "drivers_pl = drivers_renamed.iloc[:, [0, 6, 7]]  # keep only the columns that are in the 0th, 6th, and 7th column position in the dataset\n",
        "\n"
      ],
      "execution_count": 0,
      "outputs": []
    },
    {
      "metadata": {
        "id": "BsIyGljIERhl",
        "colab_type": "text"
      },
      "cell_type": "markdown",
      "source": [
        "### Step 19. Create a new variable, ratio, that is the ratio of losses to premiums (ratio= losses/premiums)"
      ]
    },
    {
      "metadata": {
        "id": "bk0927NtEvlJ",
        "colab_type": "code",
        "colab": {}
      },
      "cell_type": "code",
      "source": [
        "drivers_pl = drivers_pl.assign(              )"
      ],
      "execution_count": 0,
      "outputs": []
    },
    {
      "metadata": {
        "id": "mwfxA7xpFrgI",
        "colab_type": "text"
      },
      "cell_type": "markdown",
      "source": [
        "### Step 20. Create a scatter plot showing premiums = X, losses = Y."
      ]
    },
    {
      "metadata": {
        "id": "goMNMAlZIEAD",
        "colab_type": "code",
        "colab": {}
      },
      "cell_type": "code",
      "source": [
        "plt.scatter(      )"
      ],
      "execution_count": 0,
      "outputs": []
    },
    {
      "metadata": {
        "id": "Ag6mT2ELLlP-",
        "colab_type": "text"
      },
      "cell_type": "markdown",
      "source": [
        "### Step 21. Get summary statistics about the drivers_pl dataset."
      ]
    },
    {
      "metadata": {
        "id": "2FpSrOJYpWIt",
        "colab_type": "text"
      },
      "cell_type": "markdown",
      "source": [
        "Type drivers_pl.describe()"
      ]
    },
    {
      "metadata": {
        "id": "OWXzLFXPLYnn",
        "colab_type": "code",
        "colab": {}
      },
      "cell_type": "code",
      "source": [
        ""
      ],
      "execution_count": 0,
      "outputs": []
    },
    {
      "metadata": {
        "id": "4UDen3_1LtqG",
        "colab_type": "text"
      },
      "cell_type": "markdown",
      "source": [
        "### Step 22. Save the summary statistics into their own dataset."
      ]
    },
    {
      "metadata": {
        "id": "Ga2udhwYLzPG",
        "colab_type": "code",
        "colab": {}
      },
      "cell_type": "code",
      "source": [
        "dpl_summary = \n"
      ],
      "execution_count": 0,
      "outputs": []
    },
    {
      "metadata": {
        "id": "AYvgtZT-L9eG",
        "colab_type": "code",
        "colab": {}
      },
      "cell_type": "code",
      "source": [
        "dpl_summary"
      ],
      "execution_count": 0,
      "outputs": []
    },
    {
      "metadata": {
        "id": "n0_8fFARMoIY",
        "colab_type": "text"
      },
      "cell_type": "markdown",
      "source": [
        "### Step 23. Access the mean of the premiums column using .loc or .iloc"
      ]
    },
    {
      "metadata": {
        "id": "mjwB0h7UMt-O",
        "colab_type": "code",
        "colab": {}
      },
      "cell_type": "code",
      "source": [
        "dpl_summary.loc['mean', 'premiums']"
      ],
      "execution_count": 0,
      "outputs": []
    },
    {
      "metadata": {
        "id": "jf7CWd6sNRoY",
        "colab_type": "code",
        "colab": {}
      },
      "cell_type": "code",
      "source": [
        "dpl_summary.iloc[1,0]"
      ],
      "execution_count": 0,
      "outputs": []
    },
    {
      "metadata": {
        "id": "vTPuiax5P6tR",
        "colab_type": "text"
      },
      "cell_type": "markdown",
      "source": [
        "### Step 24. Transpose columns and rows in dpl_summary using transpose()"
      ]
    },
    {
      "metadata": {
        "id": "Cx48c3PyP_1r",
        "colab_type": "code",
        "colab": {}
      },
      "cell_type": "code",
      "source": [
        ""
      ],
      "execution_count": 0,
      "outputs": []
    },
    {
      "metadata": {
        "id": "2C0yTesFO95F",
        "colab_type": "text"
      },
      "cell_type": "markdown",
      "source": [
        "### Step 25. Practice. Read in a new dataset from the url provided using the read_csv() command. Name the dataset 'exdat'."
      ]
    },
    {
      "metadata": {
        "id": "MmGEAI8mPEUK",
        "colab_type": "code",
        "colab": {}
      },
      "cell_type": "code",
      "source": [
        "url = \"https://raw.githubusercontent.com/alblaine/exchange-rates/master/data/annual.csv\"\n",
        "\n",
        "exdat =  \n",
        "\n",
        "exdat.head()"
      ],
      "execution_count": 0,
      "outputs": []
    },
    {
      "metadata": {
        "id": "85wAbYH2PJg5",
        "colab_type": "text"
      },
      "cell_type": "markdown",
      "source": [
        "### Step 26. Create a year column based on the Date column (ex: 1971)"
      ]
    },
    {
      "metadata": {
        "id": "c_WJGcaencqB",
        "colab_type": "text"
      },
      "cell_type": "markdown",
      "source": [
        "Note that **.assign** creates a new column, **pd.DatetimeIndex()** converts the Date column into a Date object in Python, and **.year** extracts the year value."
      ]
    },
    {
      "metadata": {
        "id": "5tZBCndpPZCX",
        "colab_type": "code",
        "colab": {}
      },
      "cell_type": "code",
      "source": [
        "exdat = exdat.assign(year=pd.DatetimeIndex(exdat['Date']).year)  # see the Pandas docs here: https://pandas.pydata.org/pandas-docs/stable/generated/pandas.DatetimeIndex.html\n"
      ],
      "execution_count": 0,
      "outputs": []
    },
    {
      "metadata": {
        "id": "SdaKA6J_TogF",
        "colab_type": "text"
      },
      "cell_type": "markdown",
      "source": [
        "### Step. 27. Delete the Date column using drop()."
      ]
    },
    {
      "metadata": {
        "id": "WMyt9mZyT-h6",
        "colab_type": "code",
        "colab": {}
      },
      "cell_type": "code",
      "source": [
        "exdat = exdat.drop(columns=[    ])\n",
        "exdat.head()"
      ],
      "execution_count": 0,
      "outputs": []
    },
    {
      "metadata": {
        "id": "oLJ7BEWGSk-_",
        "colab_type": "text"
      },
      "cell_type": "markdown",
      "source": [
        "### Step 28. Practice. Filter the data to only include China and Mexico using the query() function. See Step 6 for an example."
      ]
    },
    {
      "metadata": {
        "id": "LtEbYO0MS2TF",
        "colab_type": "code",
        "colab": {}
      },
      "cell_type": "code",
      "source": [
        "exdat_filtered = "
      ],
      "execution_count": 0,
      "outputs": []
    },
    {
      "metadata": {
        "colab_type": "text",
        "id": "iyLVvmVcZ-Nt"
      },
      "cell_type": "markdown",
      "source": [
        "### Step 29. Practice. Rename the \"Exchange rate\" column to \"rate\". We shouldn't have spaces in our variable names. See Step 4 for an example."
      ]
    },
    {
      "metadata": {
        "colab_type": "code",
        "id": "8LEaVe1fZ9sA",
        "colab": {}
      },
      "cell_type": "code",
      "source": [
        "exdat_filtered = "
      ],
      "execution_count": 0,
      "outputs": []
    },
    {
      "metadata": {
        "id": "Y1Ue70FSS45k",
        "colab_type": "text"
      },
      "cell_type": "markdown",
      "source": [
        "### Step 30. Practice. Create a line graph showing how the exchange rates have changed over time for China and Mexico. See Step 9 for an example.\n",
        "Note: **year** should be the variable on the X axis and **rate** should be the variable on the Y axis. Both lines should be in the same graph.\n",
        "Hint: use .group_by and .plot functions"
      ]
    },
    {
      "metadata": {
        "id": "h2e76S9RTCHM",
        "colab_type": "code",
        "colab": {}
      },
      "cell_type": "code",
      "source": [
        "fig, ax=plt.subplots()\n",
        "\n"
      ],
      "execution_count": 0,
      "outputs": []
    }
  ]
}